{
 "cells": [
  {
   "cell_type": "markdown",
   "id": "6da9e4b7-7da2-4bac-a0c2-ffd7eb67d30a",
   "metadata": {},
   "source": [
    "#Question 1:\n",
    "Multithreading is a process of running multiple threads simultaneously within a single process. Thread is a sub process or a light weight process within an process. Each thread contains its own register set and local variables. All threads of the program share the global variables and the code.\n",
    "The primary purpose of multithreading is to improve the performance of a program by using multiple CPUs or CPU cores.\n",
    "Thread module and Threading module are used to handle threads in python. The threading module is used to create and manage threads."
   ]
  },
  {
   "cell_type": "markdown",
   "id": "bf6bcc04-cd16-4a6c-b78d-9ec090eb7938",
   "metadata": {},
   "source": [
    "#Question 2: \n",
    "1. activeCount() : Returns the number of thread objects that are active\n",
    "2. currentThread() : Returns the current thread object in the caller's thread control\n",
    "3. enumerate() : Returns a list of all thread objects that are currently active"
   ]
  },
  {
   "cell_type": "code",
   "execution_count": 1,
   "id": "ae4d1dfd-f545-4eb4-8097-d60780c10765",
   "metadata": {},
   "outputs": [
    {
     "name": "stdout",
     "output_type": "stream",
     "text": [
      "Im from thread 1 and value of i is 10\n",
      "Im from thread 2 and value of i is 4\n",
      "Number of active threads : 10\n",
      "Current thread is : <_MainThread(MainThread, started 140417762309952)>\n",
      "List of threads : [<_MainThread(MainThread, started 140417762309952)>, <Thread(IOPub, started daemon 140417691780672)>, <Heartbeat(Heartbeat, started daemon 140417683387968)>, <Thread(Thread-3 (_watch_pipe_fd), started daemon 140417658209856)>, <Thread(Thread-4 (_watch_pipe_fd), started daemon 140417311962688)>, <ControlThread(Control, started daemon 140417303569984)>, <HistorySavingThread(IPythonHistorySavingThread, started 140417295177280)>, <ParentPollerUnix(Thread-2, started daemon 140417286784576)>, <Thread(Thread-5 (thread1), started 140417278391872)>, <Thread(Thread-6 (thread2), started 140417269999168)>]\n"
     ]
    }
   ],
   "source": [
    "import threading,time\n",
    "def thread1(i):\n",
    "    print(f\"Im from thread 1 and value of i is {i}\")\n",
    "    time.sleep(3)\n",
    "def thread2(i):\n",
    "    print(f\"Im from thread 2 and value of i is {i}\")\n",
    "    time.sleep(3)\n",
    "if __name__==\"__main__\":\n",
    "    t1=threading.Thread(target=thread1,args=(10,))\n",
    "    t2=threading.Thread(target=thread2,args=(4,))\n",
    "    t1.start()\n",
    "    t2.start()\n",
    "    print(\"Number of active threads :\",threading.active_count())\n",
    "    print(\"Current thread is :\",threading.current_thread())\n",
    "    print(\"List of threads :\",threading.enumerate())\n",
    "    t1.join\n",
    "    t2.join"
   ]
  },
  {
   "cell_type": "markdown",
   "id": "88a20cf0-b9b7-4f8d-9136-299f969df273",
   "metadata": {},
   "source": [
    "#Question 3:\n",
    "1. run() : Defines the entry point for a thread\n",
    "2. start(): Starts a thread by calling the run method\n",
    "3. join() : waits for the thread ton terminate.\n",
    "4. isAlive() : checks whether the thread is executing or not"
   ]
  },
  {
   "cell_type": "code",
   "execution_count": 2,
   "id": "5fb5a01f-817a-4909-82fa-267622b99bfa",
   "metadata": {},
   "outputs": [
    {
     "name": "stdout",
     "output_type": "stream",
     "text": [
      "run() is called by threading.Thread.start()\n",
      "Status of the thread : False\n"
     ]
    }
   ],
   "source": [
    "class thread(threading.Thread):\n",
    "    def run(self):\n",
    "        print(\"run() is called by threading.Thread.start()\")\n",
    "if __name__==\"__main__\":\n",
    "    thread1=thread()\n",
    "    thread1.start()\n",
    "    thread1.join()\n",
    "    print(f\"Status of the thread : {thread1.is_alive()}\")"
   ]
  },
  {
   "cell_type": "code",
   "execution_count": 3,
   "id": "fc2f5aa9-5d13-414f-a028-4e02be368fc9",
   "metadata": {},
   "outputs": [
    {
     "name": "stdout",
     "output_type": "stream",
     "text": [
      "Squares of the list: \n",
      "1\n",
      "4\n",
      "9\n",
      "16\n",
      "25\n",
      "cubes of the list: \n",
      "1\n",
      "8\n",
      "27\n",
      "64\n",
      "125\n"
     ]
    }
   ],
   "source": [
    "#Question 4: program to create two threads. Thread one must print the list of squares and thread two must print the list of cubes\n",
    "\n",
    "def square(num):\n",
    "   print(num*num)\n",
    "def cube(num):\n",
    "    print(num*num*num)\n",
    "if __name__==\"__main__\":\n",
    "    thread1=[threading.Thread(target=square,args=(i,)) for i in [1,2,3,4,5]]\n",
    "    thread2=[threading.Thread(target=cube,args=(i,)) for i in [1,2,3,4,5]]\n",
    "    print(\"Squares of the list: \")\n",
    "    for t1 in thread1:\n",
    "     t1.start()\n",
    "    print(\"cubes of the list: \")\n",
    "    for t2 in thread2:\n",
    "     t2.start()"
   ]
  },
  {
   "cell_type": "markdown",
   "id": "94cdf4fc-8aa4-41bf-8534-af0131126142",
   "metadata": {},
   "source": [
    "#Question 5: advantages and disadvantages of multithreading\n",
    "\n",
    "#Advantages : \n",
    "(i) Threads are independent of each other. \n",
    "(ii) Resources can be used efficiently since threads executes parallely. \n",
    "(iii) Enhances the performance of multi-processor machines.\n",
    "\n",
    "#Disadvantages : \n",
    "(i) Complexity increases with increase in number of threads. \n",
    "(ii) Necessary to maintain synchronisation while using shared resources among multiple threads. \n",
    "(iii) Process of constructing/synchronising the threads is cpu/memory intensive"
   ]
  },
  {
   "cell_type": "markdown",
   "id": "f9be7dbe-eba2-4e08-8947-fd86d9ee1f24",
   "metadata": {},
   "source": [
    "#Question 6: deadlocks and race conditions.\n",
    "\n",
    "Deadlock is a condition where a thread or threads waits for the condition that never occurs. \n",
    "Deadlock inclues: (i) A thread that waits on itself. \n",
    "(ii) Threads that wait for each other (A waits for B, B waits for A) \n",
    "(iii) Thread that fails to release the resources (mutex lock,semaphore,..etc) \n",
    "(iv) Threads that acquires mutex locks in differnt modes (ie: fails to perform lock ordering)\n",
    "\n",
    "Race condition occurs when two or more threads can access shared variable and try to change it at the same time. Due to this,the value of variable may be unpredicted and vary depending on thet timings of context switches of the process."
   ]
  }
 ],
 "metadata": {
  "kernelspec": {
   "display_name": "Python 3 (ipykernel)",
   "language": "python",
   "name": "python3"
  },
  "language_info": {
   "codemirror_mode": {
    "name": "ipython",
    "version": 3
   },
   "file_extension": ".py",
   "mimetype": "text/x-python",
   "name": "python",
   "nbconvert_exporter": "python",
   "pygments_lexer": "ipython3",
   "version": "3.10.8"
  }
 },
 "nbformat": 4,
 "nbformat_minor": 5
}
