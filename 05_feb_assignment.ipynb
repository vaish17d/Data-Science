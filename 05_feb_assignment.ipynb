{
 "cells": [
  {
   "cell_type": "code",
   "execution_count": 1,
   "id": "a952615e-3638-42cb-adb1-33833594a678",
   "metadata": {},
   "outputs": [
    {
     "name": "stdout",
     "output_type": "stream",
     "text": [
      "fruit1 is a apple, fruit2 is a mango.\n"
     ]
    }
   ],
   "source": [
    "#Question 1\n",
    "#An object is a collection of data with associated behaviors. It is an instance of class.\n",
    "#Classes describe objects. They are like blueprints for creating an object.\n",
    "class fruits:\n",
    "    fruit1='apple'\n",
    "    fruit2='mango'\n",
    "    def name(self):\n",
    "        print(f\"fruit1 is a {self.fruit1}, fruit2 is a {self.fruit2}.\")\n",
    "        \n",
    "fruit_obj = fruits()\n",
    "fruit_obj.name()"
   ]
  },
  {
   "cell_type": "markdown",
   "id": "a69e9dd7-85a6-4689-80e9-322e5f4ae32a",
   "metadata": {},
   "source": [
    "#Question 2\n",
    "The four pillars of OOPs are:\n",
    "(1) Inheritance : process of one class inheriting properties and methods from another class i.e inherit properties and behaviour from parent classs\n",
    "(2) Encapsulation : process of wrapping code and data together into a single unit to prevent direct access of data by user\n",
    "(3) Abstraction : process of hiding internal implementation details and exposes only the functionality to the user\n",
    "(4) Polymorphism : same function can be used for different data types. It exist in multiple forms."
   ]
  },
  {
   "cell_type": "code",
   "execution_count": 2,
   "id": "607271d8-9a46-4586-8849-ff69be97d981",
   "metadata": {},
   "outputs": [
    {
     "name": "stdout",
     "output_type": "stream",
     "text": [
      "student ID: 101\n"
     ]
    }
   ],
   "source": [
    "#Question 3\n",
    "#The __init__() function is called a constructor or initializer. It is automatically called every time the class is being used to create a new object. \n",
    "#Within that function, the newly created object is assigned to the parameter self. \n",
    "#For example, \n",
    "class student:\n",
    "    def __init__(self, student_Id):\n",
    "        self.student_Id = student_Id\n",
    "    def show(self):\n",
    "        print(f\"student ID: {self.student_Id}\")\n",
    "obj = student(101)\n",
    "obj.show()"
   ]
  },
  {
   "cell_type": "code",
   "execution_count": 3,
   "id": "fa99862f-8d2b-4a0c-bb40-8a9e32cf9437",
   "metadata": {},
   "outputs": [
    {
     "name": "stdout",
     "output_type": "stream",
     "text": [
      "course name: Data Science\n"
     ]
    }
   ],
   "source": [
    "#Question 4\n",
    "# self act as a pointer or reference to class. By using the “self” we can access the attributes and methods of the class. \n",
    "#It binds the attributes with the given arguments. It always points to current object.\n",
    "class student:\n",
    "    def __init__(self,course):\n",
    "        self.course_name = course\n",
    "    def show(self):\n",
    "        print(f\"course name: {self.course_name}\")\n",
    "        \n",
    "obj = student(\"Data Science\")        \n",
    "obj.show()"
   ]
  },
  {
   "cell_type": "code",
   "execution_count": 4,
   "id": "a3d34b75-19e8-4f0a-9165-f92f26f5caaa",
   "metadata": {},
   "outputs": [
    {
     "name": "stdout",
     "output_type": "stream",
     "text": [
      "Single inheritance example :\n",
      "This is in child class\n",
      "\n",
      "Multiple inheritance example :\n",
      "This is in class1\n",
      "\n",
      "Multi level inheritance example :\n",
      "This is in class5\n"
     ]
    }
   ],
   "source": [
    "#Question 5\n",
    "# Inheritance is process in which, new classes are created from the existing classes. The class created called child class and the existing class called as parent class.\n",
    "#It provides code reusability.\n",
    "# There are two types of inheritance:\n",
    "#(1) Multi level inheritance : features of the base class and child class are further inherited into the new child class\n",
    "#(2) Multiple inheritance : single class is derived from more than one parent/base class\n",
    "\n",
    "print(\"Multiple inheritance example :\")\n",
    "class class1:\n",
    "    def show1(self):\n",
    "        print(\"This is in class1\")\n",
    "class class2:        \n",
    "    def show2(self):\n",
    "        print(\"This is in class2\")\n",
    "class class3(class1,class2):        \n",
    "    def show3(self):\n",
    "        print(\"This is in class3\")    \n",
    "class3_obj = class3()\n",
    "class3_obj.show1()\n",
    "\n",
    "print()\n",
    "\n",
    "print(\"Multi level inheritance example :\")\n",
    "class class4:\n",
    "    def show4(self):\n",
    "        print(\"This is in class4\")\n",
    "class class5(class4):        \n",
    "    def show5(self):\n",
    "        print(\"This is in class5\")\n",
    "class class6(class5):        \n",
    "    def show6(self):\n",
    "        print(\"This is in class6\")    \n",
    "class6_obj = class6()\n",
    "class6_obj.show5()\n"
   ]
  }
 ],
 "metadata": {
  "kernelspec": {
   "display_name": "Python 3 (ipykernel)",
   "language": "python",
   "name": "python3"
  },
  "language_info": {
   "codemirror_mode": {
    "name": "ipython",
    "version": 3
   },
   "file_extension": ".py",
   "mimetype": "text/x-python",
   "name": "python",
   "nbconvert_exporter": "python",
   "pygments_lexer": "ipython3",
   "version": "3.10.8"
  }
 },
 "nbformat": 4,
 "nbformat_minor": 5
}
