{
 "cells": [
  {
   "cell_type": "markdown",
   "id": "6b7340ab-2d24-458e-b510-feb8df302678",
   "metadata": {},
   "source": [
    "#Question 1 \n",
    "Solution:- A for loop is used when you know the loop should execute n times or when the number of iterations is known. For loop continues until we reach the last item in the iteration sequence. for example, (1) you want to print items in the list. (2) when you want to print values in certain range with steps.\n",
    "\n",
    "Whereas while loop is used when you don't know how long it will take. While loop used when a loop repeats unkown number of times until a certain condition met (if condition is false,it ends). for example, to display/print numbers between 1 to 10. (here condition will be number<10)"
   ]
  },
  {
   "cell_type": "code",
   "execution_count": 1,
   "id": "a0d9a1ef-0172-41bb-a393-1c4085ea7c8f",
   "metadata": {},
   "outputs": [
    {
     "name": "stdout",
     "output_type": "stream",
     "text": [
      "sum and product of first 10 natural numbers is 55 and 3628800 respectively.\n"
     ]
    }
   ],
   "source": [
    "#Question 2\n",
    "sum=0\n",
    "product=1\n",
    "for i in range(1,11):\n",
    "    sum=sum+i\n",
    "    product=product*i\n",
    "print(\"sum and product of first 10 natural numbers is\",sum,\"and\",product,\"respectively.\")"
   ]
  },
  {
   "cell_type": "code",
   "execution_count": 2,
   "id": "529cff2e-fa8f-47b4-9791-17304bdb4663",
   "metadata": {},
   "outputs": [
    {
     "name": "stdout",
     "output_type": "stream",
     "text": [
      "sum and product of first 10 natural numbers is 55 and 3628800 respectively.\n"
     ]
    }
   ],
   "source": [
    "#Question 2\n",
    "num=1\n",
    "sum=0\n",
    "product=1\n",
    "while num<=10:\n",
    "    sum += num\n",
    "    product *= num\n",
    "    num+=1\n",
    "print(\"sum and product of first 10 natural numbers is\",sum,\"and\",product,\"respectively.\")"
   ]
  },
  {
   "cell_type": "code",
   "execution_count": 3,
   "id": "aa738aae-983e-44dc-adcf-d52a6e2806d8",
   "metadata": {},
   "outputs": [
    {
     "name": "stdin",
     "output_type": "stream",
     "text": [
      " 310\n"
     ]
    },
    {
     "name": "stdout",
     "output_type": "stream",
     "text": [
      "2250.0\n"
     ]
    }
   ],
   "source": [
    "#Question 3\n",
    "unit=int(input())\n",
    "def electricity_Bill():\n",
    "    if unit<=100: charge=4.5*unit\n",
    "    elif unit>100 and unit<=200: charge=(100*4.5)+(unit-100)*6\n",
    "    elif unit>200 and unit<=300: charge=(100*4.5)+(200-100)*6+(unit-200)*10\n",
    "    elif unit>300: charge=(100*4.5)+(200-100)*6+(300-200)*10+(unit-300)*20\n",
    "    print(charge)\n",
    "    \n",
    "electricity_Bill()    "
   ]
  },
  {
   "cell_type": "code",
   "execution_count": 4,
   "id": "08288dc6-1c67-4e9f-84ba-76cce30be3d2",
   "metadata": {},
   "outputs": [
    {
     "name": "stdout",
     "output_type": "stream",
     "text": [
      "[2, 4, 5, 6, 8, 10, 12, 14, 15, 16, 18, 20, 22, 24, 25, 26, 28, 30, 32, 34, 35, 36, 38, 40, 42, 44, 45, 46, 48, 50, 52, 54, 55, 56, 58, 60, 62, 64, 65, 66, 68, 70, 72, 74, 75, 76, 78, 80, 82, 84, 85, 86, 88, 90, 92, 94, 95, 96, 98, 100]\n"
     ]
    }
   ],
   "source": [
    "#Question 4\n",
    "l=[]\n",
    "def f1_cube():\n",
    "    for i in range(1,101):\n",
    "        cube=i**3\n",
    "        if cube%4==0 or cube%5==0:\n",
    "            l.append(i)\n",
    "    print(l)   \n",
    "    \n",
    "f1_cube()    "
   ]
  },
  {
   "cell_type": "code",
   "execution_count": 5,
   "id": "ad95590a-c05d-4e49-837a-292161324e84",
   "metadata": {},
   "outputs": [
    {
     "name": "stdout",
     "output_type": "stream",
     "text": [
      "[2, 4, 5, 6, 8, 10, 12, 14, 15, 16, 18, 20, 22, 24, 25, 26, 28, 30, 32, 34, 35, 36, 38, 40, 42, 44, 45, 46, 48, 50, 52, 54, 55, 56, 58, 60, 62, 64, 65, 66, 68, 70, 72, 74, 75, 76, 78, 80, 82, 84, 85, 86, 88, 90, 92, 94, 95, 96, 98, 100]\n"
     ]
    }
   ],
   "source": [
    "#Question 4\n",
    "def f2_cube():\n",
    "    l=[]\n",
    "    num=1\n",
    "    while num<=100:\n",
    "        cube=num**3\n",
    "        if cube%4==0 or cube%5==0:\n",
    "            l.append(num)\n",
    "        num += 1\n",
    "    print(l)    \n",
    "    \n",
    "f2_cube()    "
   ]
  },
  {
   "cell_type": "code",
   "execution_count": 6,
   "id": "13c01adf-a62a-4a60-bf34-d9ac22b6d8c7",
   "metadata": {},
   "outputs": [
    {
     "name": "stdout",
     "output_type": "stream",
     "text": [
      "12\n"
     ]
    }
   ],
   "source": [
    "#Question 5\n",
    "string = \"I want to become a data scientist\"\n",
    "def count_Vowels():\n",
    "    count=0\n",
    "    for i in string:\n",
    "        if i in \"aeiouAEIOU\":\n",
    "            count += 1\n",
    "    print(count)\n",
    "    \n",
    "count_Vowels()    "
   ]
  }
 ],
 "metadata": {
  "kernelspec": {
   "display_name": "Python 3 (ipykernel)",
   "language": "python",
   "name": "python3"
  },
  "language_info": {
   "codemirror_mode": {
    "name": "ipython",
    "version": 3
   },
   "file_extension": ".py",
   "mimetype": "text/x-python",
   "name": "python",
   "nbconvert_exporter": "python",
   "pygments_lexer": "ipython3",
   "version": "3.10.8"
  }
 },
 "nbformat": 4,
 "nbformat_minor": 5
}
