{
 "cells": [
  {
   "cell_type": "code",
   "execution_count": null,
   "id": "2587902a-6f9c-46c9-abc5-754c5704d072",
   "metadata": {},
   "outputs": [],
   "source": [
    "#Question 1: why we have to use the Exception class while creating a Custom Exception.\n",
    "\n",
    "'''To override the constructor of exception class and to accept our custom aruguments, exception class is used.\n",
    "Here, the constructor of parent class exception is called with self.message arugument.\n",
    "The inherited __str__ method is used to display the corresponding message when the corresponding error is raised.'''"
   ]
  },
  {
   "cell_type": "code",
   "execution_count": null,
   "id": "6ba348e8-259f-4795-96b6-e9c5babadc7d",
   "metadata": {},
   "outputs": [],
   "source": [
    "#Question 2: Python Exception Hierarchy.\n",
    "\n",
    "import inspect\n",
    "def treeClass(cls,index=0):\n",
    "  print(\"-\" * index, cls.__name__)\n",
    "  for i in cls.__subclasses__():\n",
    "   treeClass(i,index+3)\n",
    "print(\"Python Exception Hierarchy:\")\n",
    "inspect.getclasstree(inspect.getmro(BaseException))\n",
    "treeClass(BaseException)"
   ]
  },
  {
   "cell_type": "code",
   "execution_count": null,
   "id": "49946c62-aac2-4b25-9aa0-91df60c3433b",
   "metadata": {},
   "outputs": [],
   "source": [
    "#Question 3: What errors are defined in the ArithmeticError class?\n",
    "# ArithmeticError class is the base class for ZeroDivisonError exception, OverflowError exception and FloatingPointError exxception.\n",
    "\n",
    "print(\"Example for ZeroDivisionError Exception\")\n",
    "try:\n",
    "  a=100\n",
    "  print(a/0)\n",
    "except ArithmeticError as e:\n",
    "  print(\"Exception ocuured\",e)\n",
    "print(\"Example for FloatingPointError Exception\")\n",
    "try:\n",
    "  a=5\n",
    "  for i in range(1,1000):\n",
    "    a=a**i\n",
    "    print(a)\n",
    "except ArithmeticError as e:\n",
    "  print(\"Exception ocuured\",e)"
   ]
  },
  {
   "cell_type": "code",
   "execution_count": null,
   "id": "292e2250-b10b-4f81-bb6c-a762dde74110",
   "metadata": {},
   "outputs": [],
   "source": [
    "#Question 4: Why LookupError class is used?\n",
    "\n",
    "'''LookupError exception is the parent class for all the exception that are raised when an index or a key is not found within dictionary or any other sequence. \n",
    "It handles both IndexError and KeyError exception classes.'''\n",
    "\n",
    "print(\"Example for IndexError Exception\")\n",
    "list1=[1,2,3,4]\n",
    "try:\n",
    "  print(list1[5])\n",
    "except LookupError as e:\n",
    "  print(\"Exception occured:\",e)\n",
    "print(\"-------------------------------\")\n",
    "print(\"Example for KeyError Exception\")\n",
    "dic1={\"a\":\"apple\",\"b\":\"ball\",\"c\":\"cat\",\"d\":\"dog\"}\n",
    "try:\n",
    "  print(dic1[\"j\"])\n",
    "except LookupError as e:\n",
    "  print(\"Exception occured:\",e)"
   ]
  },
  {
   "cell_type": "code",
   "execution_count": null,
   "id": "01fddfde-c03d-46d0-9674-046fc8a40452",
   "metadata": {},
   "outputs": [],
   "source": [
    "#Question 5: ImportError and ModuleNotFoundError\n",
    "\n",
    "'''ImportError occurs when the import statement does not import the specific module successfully. If module is not found within a package or if a module does not exists,\n",
    "ImportError occurs.\n",
    "ModuleNotFoundError is the subclass of ImportError.Invalid or incorrect path raises the ModuleNotFoundError.'''"
   ]
  },
  {
   "cell_type": "code",
   "execution_count": null,
   "id": "3946495f-1183-47b4-8371-3ae74e72b630",
   "metadata": {},
   "outputs": [],
   "source": [
    "#Question 6: best practices for exception handling in python.\n",
    "\n",
    "'''1) Always use a specific exception.\n",
    "2) Always print a valid message.\n",
    "3) Always try to log.\n",
    "4) Always avoid to write multiple exception handling.\n",
    "5) Prepare a proper documentation.\n",
    "6) Cleanup all the resources.'''"
   ]
  },
  {
   "cell_type": "code",
   "execution_count": null,
   "id": "576de3ca-671f-4d71-a75f-a5b9734ce78f",
   "metadata": {},
   "outputs": [],
   "source": []
  }
 ],
 "metadata": {
  "kernelspec": {
   "display_name": "Python 3 (ipykernel)",
   "language": "python",
   "name": "python3"
  },
  "language_info": {
   "codemirror_mode": {
    "name": "ipython",
    "version": 3
   },
   "file_extension": ".py",
   "mimetype": "text/x-python",
   "name": "python",
   "nbconvert_exporter": "python",
   "pygments_lexer": "ipython3",
   "version": "3.10.8"
  }
 },
 "nbformat": 4,
 "nbformat_minor": 5
}
