{
 "cells": [
  {
   "cell_type": "code",
   "execution_count": null,
   "id": "50b03cf4-f00a-4f11-86cc-2004d64ed09d",
   "metadata": {},
   "outputs": [],
   "source": [
    "### Question 1: What is Flask Framework? What are the advantages of Flask Framework?\n",
    "'''Flask is a web framework that allows us to built web application by providing tools,libraries and technologies.\n",
    "It is classified into micro-library that means it has little to no dependencies on external libraries.\n",
    "Advantages:\n",
    "(i) Integrated support for unit testing\n",
    "(ii) Unicode base\n",
    "(iii) Restful request dispatching\n",
    "(iv) Built-in development server and fast debugger\n",
    "(v) Support cookies\n",
    "(vi) HTTP request handling function\n",
    "(vii) Lightweight and has modular design\n",
    "(viii) Easy to deploy in production\n",
    "(ix) Highly flexible\n",
    "(x) Strong WSGI feature'''"
   ]
  },
  {
   "cell_type": "code",
   "execution_count": null,
   "id": "91fffeef-0670-4fe5-b032-c2e5ac8a8bb9",
   "metadata": {},
   "outputs": [],
   "source": [
    "### Question 2: Create a simple Flask application to display ‘Hello World!!’. Attach the screenshot of the output\n",
    "from flask import Flask\n",
    "\n",
    "app = Flask(__name__)\n",
    "\n",
    "@app.route(\"/\")\n",
    "def hello_world():\n",
    "    return \"<h1>Hello World!!</h1>\"\n",
    "\n",
    "if __name__==\"__main__\":\n",
    "    app.run(host=\"0.0.0.0\")"
   ]
  },
  {
   "cell_type": "markdown",
   "id": "0e77417b-1698-4cc9-9b29-aca64b768122",
   "metadata": {},
   "source": [
    "![](q2.png)"
   ]
  },
  {
   "cell_type": "code",
   "execution_count": null,
   "id": "4f367830-fb13-4ab9-8707-aa7703a2c314",
   "metadata": {},
   "outputs": [],
   "source": [
    "### Question 3: What is App routing in Flask? Why do we use app routes?\n",
    "'''App routing means mapping the URL to the specific method that will handle the logic for that URL. \n",
    "The URL(\"/\") is assosiated with root URL.\n",
    "To bind the function to the URL path we use app.route decorater.'''"
   ]
  },
  {
   "cell_type": "code",
   "execution_count": null,
   "id": "aaee46c7-baa1-4d31-8a39-473607932521",
   "metadata": {},
   "outputs": [],
   "source": [
    "### Question 4: Create a “/welcome” route to display the welcome message “Welcome to ABC Corporation” and a “/” route to show the following details: Company Name: ABC Corporation, Location: India, Contact Detail: 999-999-999\n",
    "from flask import Flask\n",
    "\n",
    "app = Flask(__name__)\n",
    "\n",
    "@app.route(\"/welcome\")\n",
    "def welcome_message():\n",
    "    return \"Welcome to ABC Corporation\"\n",
    "@app.route(\"/\")\n",
    "def display_message():\n",
    "    return \"Company Name:ABC Corporation\\nLocation:India\\nContact Detail:999-999-9999\"\n",
    "\n",
    "if __name__==\"__main__\":\n",
    "    app.run(host=\"0.0.0.0\")"
   ]
  },
  {
   "cell_type": "markdown",
   "id": "41877594-93fc-4abb-b7f7-b4acc07017b0",
   "metadata": {},
   "source": [
    "![](q4.1.png)"
   ]
  },
  {
   "cell_type": "markdown",
   "id": "e01bca2d-8702-409d-b809-e5fa4aedf11a",
   "metadata": {},
   "source": [
    "![](q42.png)"
   ]
  },
  {
   "cell_type": "code",
   "execution_count": null,
   "id": "6940e45c-25d4-4cf2-b0f5-01b3b8d80f94",
   "metadata": {},
   "outputs": [],
   "source": [
    "### Question 5: What function is used in Flask for URL Building? Write a Python code to demonstrate the working of the url_for() function.\n",
    "\n",
    "''' To built URL in flask, url_for() function is used. The name of the function is passed as the first argument and any number of keyword arguments.'''\n",
    "\n",
    "from flask import Flask,redirect,url_for\n",
    "\n",
    "app = Flask(__name__)\n",
    "\n",
    "@app.route(\"/admin\")\n",
    "def hello_admin():\n",
    "    return \"Hello Admin\"\n",
    "\n",
    "@app.route(\"/guest/\")\n",
    "def hello_guest(guest):\n",
    "    return (f\"Hello {guest} as guest\")\n",
    "\n",
    "@app.route(\"/user/\")\n",
    "def hello_user(name):\n",
    "    if name=='admin':\n",
    "        return redirect(url_for('hello_admin'))\n",
    "    else:\n",
    "        return redirect(url_for('hello_guest',guest=name))\n",
    "\n",
    "if __name__==\"__main__\":\n",
    "    app.run(host=\"0.0.0.0\")     "
   ]
  },
  {
   "cell_type": "markdown",
   "id": "504f3855-2e85-467a-86a8-e039ad08c12b",
   "metadata": {},
   "source": [
    "![](q5.png)"
   ]
  },
  {
   "cell_type": "code",
   "execution_count": null,
   "id": "739ecef8-d24e-49aa-9708-2778bc79f059",
   "metadata": {},
   "outputs": [],
   "source": []
  },
  {
   "cell_type": "code",
   "execution_count": null,
   "id": "b794d4e9-afaf-42f6-888a-ff9055b87458",
   "metadata": {},
   "outputs": [],
   "source": []
  }
 ],
 "metadata": {
  "kernelspec": {
   "display_name": "Python 3 (ipykernel)",
   "language": "python",
   "name": "python3"
  },
  "language_info": {
   "codemirror_mode": {
    "name": "ipython",
    "version": 3
   },
   "file_extension": ".py",
   "mimetype": "text/x-python",
   "name": "python",
   "nbconvert_exporter": "python",
   "pygments_lexer": "ipython3",
   "version": "3.10.8"
  }
 },
 "nbformat": 4,
 "nbformat_minor": 5
}
