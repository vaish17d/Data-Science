{
 "cells": [
  {
   "cell_type": "code",
   "execution_count": 14,
   "id": "3458393f-3761-407c-9fcd-7be7795a3b0d",
   "metadata": {},
   "outputs": [
    {
     "name": "stdin",
     "output_type": "stream",
     "text": [
      "Enter the password:  ABcd@1@2@3\n"
     ]
    },
    {
     "name": "stdout",
     "output_type": "stream",
     "text": [
      "Valid Password\n"
     ]
    }
   ],
   "source": [
    "# Question 1: check whether the password entered by the user is correct or not.\n",
    "\n",
    "password = input(\"Enter the password: \")\n",
    "def passwordCheck(password):\n",
    "    upper=lower=special=number=0\n",
    "    if len(password)==10:\n",
    "        for i in password:\n",
    "            if i.isupper():\n",
    "                upper += 1\n",
    "            elif i.islower():\n",
    "                lower += 1\n",
    "            elif i.isnumeric():\n",
    "                number += 1\n",
    "            else:\n",
    "                special += 1\n",
    "        if upper>=2 and lower>=2 and number>=1 and special==3:\n",
    "            print(\"Valid Password\")\n",
    "        else:\n",
    "            print(\"Invalid Password\")    \n",
    "    else:\n",
    "        return \"Invalid Password\"\n",
    "        \n",
    "passwordCheck(password)        \n"
   ]
  },
  {
   "cell_type": "code",
   "execution_count": 25,
   "id": "7e84e47a-3de0-414c-9eb1-7c4f4ba45b09",
   "metadata": {},
   "outputs": [
    {
     "name": "stdin",
     "output_type": "stream",
     "text": [
      "Enter the string:  data\n",
      "Enter the letter:  d\n"
     ]
    },
    {
     "name": "stdout",
     "output_type": "stream",
     "text": [
      "data starts with letter d\n"
     ]
    }
   ],
   "source": [
    "#Question 2(i): Check if the string starts with a particular letter\n",
    "string = input(\"Enter the string: \")\n",
    "letter = input(\"Enter the letter: \")\n",
    "if string[0].lower()==letter.lower():\n",
    "    print(f\"{string} starts with letter {letter}\")\n",
    "else:\n",
    "    print(f\"{string} does not starts with letter {letter}\")"
   ]
  },
  {
   "cell_type": "code",
   "execution_count": 23,
   "id": "3607e55a-d28a-4644-a39f-4daeef928ff4",
   "metadata": {},
   "outputs": [
    {
     "name": "stdin",
     "output_type": "stream",
     "text": [
      "Enter the string:  12345\n"
     ]
    },
    {
     "name": "stdout",
     "output_type": "stream",
     "text": [
      "String is numeric\n"
     ]
    }
   ],
   "source": [
    "#Question 2(ii): Check if the string is numeric\n",
    "string = input(\"Enter the string: \")\n",
    "if string.isnumeric(): print(\"String is numeric\")\n",
    "else: print(\"String is not numeric\")"
   ]
  },
  {
   "cell_type": "code",
   "execution_count": 7,
   "id": "9e6316e0-c26b-4d8f-a372-0350f05ceace",
   "metadata": {},
   "outputs": [
    {
     "name": "stdout",
     "output_type": "stream",
     "text": [
      "[('orange', 80), ('mango', 99), ('grapes', 1000)]\n"
     ]
    }
   ],
   "source": [
    "#Question 2(iii): Sort a list of tuples having fruit names and their quantity\n",
    "l = [(\"mango\",99),(\"orange\",80), (\"grapes\", 1000)]\n",
    "l.sort(key=lambda l: l[1])\n",
    "print(l)"
   ]
  },
  {
   "cell_type": "code",
   "execution_count": 8,
   "id": "17f49b25-bed2-400f-9df2-90caf8b9990c",
   "metadata": {},
   "outputs": [
    {
     "data": {
      "text/plain": [
       "[1, 4, 9, 16, 25, 36, 49, 64, 81, 100]"
      ]
     },
     "execution_count": 8,
     "metadata": {},
     "output_type": "execute_result"
    }
   ],
   "source": [
    "#Question 2(iv): Find the squares of numbers from 1 to 10\n",
    "[i**2 for i in range(1,11)]"
   ]
  },
  {
   "cell_type": "code",
   "execution_count": 9,
   "id": "17ce3c83-b24a-4231-bdf0-ea796678854c",
   "metadata": {},
   "outputs": [
    {
     "data": {
      "text/plain": [
       "[1, 8, 27, 64, 125, 216, 343, 512, 729, 1000]"
      ]
     },
     "execution_count": 9,
     "metadata": {},
     "output_type": "execute_result"
    }
   ],
   "source": [
    "#Question 2(v): Find the cube root of numbers from 1 to 10\n",
    "[i**3 for i in range(1,11)]"
   ]
  },
  {
   "cell_type": "code",
   "execution_count": 11,
   "id": "b6e5b436-5c76-4db7-a74d-4b01e76f35d3",
   "metadata": {},
   "outputs": [
    {
     "name": "stdin",
     "output_type": "stream",
     "text": [
      " 4\n"
     ]
    },
    {
     "name": "stdout",
     "output_type": "stream",
     "text": [
      "Num is even\n"
     ]
    }
   ],
   "source": [
    "#Question 2(vi): Check if a given number is even\n",
    "num = int(input())\n",
    "print(\"Num is even\" if num%2==0 else \"Num is odd\")"
   ]
  },
  {
   "cell_type": "code",
   "execution_count": 15,
   "id": "f4c84396-093d-4e4c-a611-dfeade338c1e",
   "metadata": {},
   "outputs": [
    {
     "data": {
      "text/plain": [
       "[1, 3, 5, 7, 9]"
      ]
     },
     "execution_count": 15,
     "metadata": {},
     "output_type": "execute_result"
    }
   ],
   "source": [
    "#Question 2(vii): Filter odd numbers from the given list\n",
    "l = [1,2,3,4,5,6,7,8,9,10]\n",
    "# [i for i in l if i%2!=0]\n",
    "list(filter(lambda i: i%2!=0, l))"
   ]
  },
  {
   "cell_type": "code",
   "execution_count": 20,
   "id": "e1753657-1166-4f54-8a51-eecbe0d437b4",
   "metadata": {},
   "outputs": [
    {
     "name": "stdout",
     "output_type": "stream",
     "text": [
      "Positive list: [1, 2, 3, 4, 5, 6, 0]\n",
      "Negative list: [-1, -2, -3, -4, -5]\n"
     ]
    }
   ],
   "source": [
    "#Question 2(viii): Sort a list of integers into positive and negative integers lists\n",
    "l = [1,2,3,4,5,6,-1,-2,-3,-4,-5,0]\n",
    "positive = list(filter(lambda i: i>=0, l))\n",
    "negative = list(filter(lambda i: i<0, l))\n",
    "print(f\"Positive list: {positive}\")\n",
    "print(f\"Negative list: {negative}\")"
   ]
  },
  {
   "cell_type": "code",
   "execution_count": null,
   "id": "87c8770d-0245-40ac-be60-e9a3e84b71d1",
   "metadata": {},
   "outputs": [],
   "source": []
  }
 ],
 "metadata": {
  "kernelspec": {
   "display_name": "Python 3 (ipykernel)",
   "language": "python",
   "name": "python3"
  },
  "language_info": {
   "codemirror_mode": {
    "name": "ipython",
    "version": 3
   },
   "file_extension": ".py",
   "mimetype": "text/x-python",
   "name": "python",
   "nbconvert_exporter": "python",
   "pygments_lexer": "ipython3",
   "version": "3.10.8"
  }
 },
 "nbformat": 4,
 "nbformat_minor": 5
}
