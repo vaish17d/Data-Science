{
 "cells": [
  {
   "cell_type": "code",
   "execution_count": 3,
   "id": "6ea1f5ec-6952-4df8-a5c2-47d7ee650f60",
   "metadata": {},
   "outputs": [
    {
     "name": "stdout",
     "output_type": "stream",
     "text": [
      "write mode overrides existing content with new content\n",
      "write mode overrides existing content with new contentappend mode appends new content with old one\n"
     ]
    }
   ],
   "source": [
    "#Question 1: \n",
    "#The function open() is used to open a file. \n",
    "#Different modes in open() : Read(r), Write(w), Append(a), Binary(b), Text(t)\n",
    "with open(\"file1.txt\",\"w\") as f:  #write mode\n",
    "    f.write(\"write mode overrides existing content with new content\")\n",
    "with open(\"file1.txt\",\"r\") as f:  #read mode\n",
    "    print(f.read())\n",
    "with open(\"file1.txt\",\"a\") as f:  #append mode\n",
    "    f.write(\"append mode appends new content with old one\") \n",
    "with open(\"file1.txt\",\"r\") as f:  #read mode\n",
    "    print(f.read())"
   ]
  },
  {
   "cell_type": "code",
   "execution_count": 5,
   "id": "436f429b-dc60-4f81-8244-f9178cd81b2d",
   "metadata": {},
   "outputs": [
    {
     "name": "stdout",
     "output_type": "stream",
     "text": [
      "This is my file1\n"
     ]
    }
   ],
   "source": [
    "#Question 2:\n",
    "#Close function is used to close the file so it no longer refer to any file and it can be reused.\n",
    "#After written the file, only after close function we can able to see the result.\n",
    "f1=open(\"file1.txt\",mode='w')\n",
    "f1.write(\"This is my file1\")\n",
    "f1.close()\n",
    "with open(\"file1.txt\",mode='r') as f:\n",
    "    data=f.read()\n",
    "print(data)\n",
    "     "
   ]
  },
  {
   "cell_type": "code",
   "execution_count": 6,
   "id": "29305ae3-90c6-4ae2-9df0-72f8e7fcc954",
   "metadata": {},
   "outputs": [
    {
     "name": "stdout",
     "output_type": "stream",
     "text": [
      "I want to become a Data Scientist\n"
     ]
    }
   ],
   "source": [
    "#Question 3: create,open and read file\n",
    "with open(\"text1.txt\",mode=\"w\") as f:\n",
    "    f.write(\"I want to become a Data Scientist\")\n",
    "with open(\"text1.txt\",mode='r') as f:\n",
    "    data=f.read()\n",
    "print(data)"
   ]
  },
  {
   "cell_type": "code",
   "execution_count": 8,
   "id": "b528f013-f055-4080-9149-a30e5200ae8f",
   "metadata": {},
   "outputs": [
    {
     "name": "stdout",
     "output_type": "stream",
     "text": [
      "output for read(): \n",
      "first line \n",
      "second line \n",
      "third line \n",
      "fourth line \n",
      "fifth line\n",
      "\n",
      "output for readline(): \n",
      "first line \n",
      "\n",
      "output for readlines() that prints output of last 2 lines: \n",
      "['fourth line \\n', 'fifth line']\n"
     ]
    }
   ],
   "source": [
    "#Question 4:\n",
    "#read reads the entire file and returns its string value.\n",
    "#readline reads just one line from the file.\n",
    "#readlines returns the list of string representing the lines of file\n",
    "with open(\"text2.txt\",mode=\"w\") as f:\n",
    "  f.write(\"first line \\nsecond line \\nthird line \\nfourth line \\nfifth line\")\n",
    "print(\"output for read(): \")\n",
    "with open(\"text2.txt\",mode=\"r\") as f:\n",
    "  print(f.read())\n",
    "  f.seek(0)\n",
    "print()    \n",
    "print(\"output for readline(): \")\n",
    "with open(\"text2.txt\",mode=\"r\") as f:\n",
    "  print(f.readline())\n",
    "print(\"output for readlines() that prints output of last 2 lines: \")\n",
    "with open(\"text2.txt\",mode=\"r\") as f:\n",
    "  print(f.readlines()[3:])\n",
    "     "
   ]
  },
  {
   "cell_type": "markdown",
   "id": "38e6010a-1ec1-4d0e-b157-ebc1ef672a3b",
   "metadata": {},
   "source": [
    "#Question 5:\n",
    "with statement ensures that file is closed after writing is completed.\n",
    "with statement along with open() is used to avoid the error/bug that happens when we open a file that does not exists.\n",
    "If the file does not exists, it creates a dummy text in that current folder and opens. After writing the data, it closes the file\n",
    "automatically with the help of 'with' statement."
   ]
  },
  {
   "cell_type": "code",
   "execution_count": null,
   "id": "c0e78a75-a950-4220-b236-063f14dc1f07",
   "metadata": {},
   "outputs": [],
   "source": [
    "#Question 6:\n",
    "#write() is used to write a string to the file\n",
    "#writelines() is used to write a list of string to the file\n"
   ]
  },
  {
   "cell_type": "code",
   "execution_count": null,
   "id": "0b4e0eed-ace8-4792-a88f-f01d9d4aa1d8",
   "metadata": {},
   "outputs": [],
   "source": []
  },
  {
   "cell_type": "code",
   "execution_count": null,
   "id": "e14e66eb-b3c0-4c6e-9930-a6e69cbf185d",
   "metadata": {},
   "outputs": [],
   "source": []
  }
 ],
 "metadata": {
  "kernelspec": {
   "display_name": "Python 3 (ipykernel)",
   "language": "python",
   "name": "python3"
  },
  "language_info": {
   "codemirror_mode": {
    "name": "ipython",
    "version": 3
   },
   "file_extension": ".py",
   "mimetype": "text/x-python",
   "name": "python",
   "nbconvert_exporter": "python",
   "pygments_lexer": "ipython3",
   "version": "3.10.8"
  }
 },
 "nbformat": 4,
 "nbformat_minor": 5
}
