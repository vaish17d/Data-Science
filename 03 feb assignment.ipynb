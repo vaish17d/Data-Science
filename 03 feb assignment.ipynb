{
 "cells": [
  {
   "cell_type": "code",
   "execution_count": 42,
   "id": "bb901592-85a1-44e4-ab66-e5935bb86a68",
   "metadata": {},
   "outputs": [
    {
     "name": "stdout",
     "output_type": "stream",
     "text": [
      "[1, 3, 5, 7, 9, 11, 13, 15, 17, 19, 21, 23, 25]\n"
     ]
    }
   ],
   "source": [
    "#Question 1\n",
    "#def keyword is used to create a function\n",
    "def odd():\n",
    "    l=[]\n",
    "    for i in range(1,26):\n",
    "        if i%2!=0:\n",
    "            l.append(i)\n",
    "    return l\n",
    "print(odd())"
   ]
  },
  {
   "cell_type": "code",
   "execution_count": 43,
   "id": "0de53ab6-fbf8-4fef-89b7-3a3516aa8d69",
   "metadata": {},
   "outputs": [
    {
     "name": "stdout",
     "output_type": "stream",
     "text": [
      "[1, 3, 5, 7, 9, 11, 13, 15, 17, 19, 21, 23, 25]\n"
     ]
    }
   ],
   "source": [
    "#Question 1\n",
    "#def keyword is used to create a function\n",
    "def fun_odd():\n",
    "    return [i for i in range(1,26) if i%2!=0 ]\n",
    "\n",
    "print(odd())"
   ]
  },
  {
   "cell_type": "code",
   "execution_count": 15,
   "id": "bb2b209a-7e16-4d8f-9c4c-8fb7ff38ef44",
   "metadata": {},
   "outputs": [
    {
     "name": "stdout",
     "output_type": "stream",
     "text": [
      "(('apple', 45, [4, 8]), 7)\n",
      "\n",
      "{'apple': 1, 'ball': 2}\n"
     ]
    }
   ],
   "source": [
    "#Question 2# *args is used to pass multiple arguments to a function\n",
    "def fun_args(*args,a):\n",
    "    return args,a\n",
    "\n",
    "print(fun_args('apple',45,[4,8],a=7))\n",
    "\n",
    "print()\n",
    "\n",
    "# **kwargs is used to pass dictionary or key-value pair as an argument to function\n",
    "def fun_kwargs(**kwargs):\n",
    "    return kwargs\n",
    "\n",
    "print(fun_kwargs(apple=1,ball=2))"
   ]
  },
  {
   "cell_type": "code",
   "execution_count": 51,
   "id": "31cfda78-5430-420a-890c-5b072656c8e1",
   "metadata": {},
   "outputs": [
    {
     "name": "stdout",
     "output_type": "stream",
     "text": [
      "2\n",
      "4\n",
      "6\n",
      "8\n",
      "10\n"
     ]
    }
   ],
   "source": [
    "#Question 3       \n",
    "#An iterator is an object that can be iterated upon (iterable objects like lists, tuples, dicts, and sets).\n",
    "#iter() method is used to initialize the iterator object so that the instance of this object can be used for iterating.\n",
    "#The next() method is used to iterate over the iterable objects. The next() method returns the next value in the iterable object.\n",
    "l = [2,4,6,8,10,12,14,16,18,20]\n",
    "m = iter(l)\n",
    "for x,y in enumerate(m):\n",
    "    print(y)\n",
    "    if x==3:\n",
    "        break\n",
    "print(next(m))  "
   ]
  },
  {
   "cell_type": "code",
   "execution_count": 51,
   "id": "78b94a4f-5269-4016-9673-d0926b5cb53f",
   "metadata": {},
   "outputs": [
    {
     "name": "stdout",
     "output_type": "stream",
     "text": [
      "0\n",
      "1\n",
      "1\n",
      "2\n",
      "3\n"
     ]
    }
   ],
   "source": [
    "#Question 4\n",
    "#A generator is a special type of function which does not return a single value, instead, it returns an iterator object with a sequence of values. In a generator function, a yield keyword is used rather than a return statement.\n",
    "#generator function gives outcome one at a time not fold in one\n",
    "def generator_fun(n):\n",
    "    a,b = 0,1\n",
    "    for i in range(n):\n",
    "        yield a  #generator function\n",
    "        a,b = b,a+b\n",
    "        \n",
    "for i in generator_fun(5):\n",
    "    print(i)"
   ]
  },
  {
   "cell_type": "code",
   "execution_count": 27,
   "id": "0e858e44-fdf9-4028-a640-3520d9da288d",
   "metadata": {},
   "outputs": [
    {
     "name": "stdout",
     "output_type": "stream",
     "text": [
      "[2, 3, 5, 7, 11, 13, 17, 19, 23, 29, 31, 37, 41, 43, 47, 53, 59, 61, 67, 71]\n"
     ]
    }
   ],
   "source": [
    "#Question 5\n",
    "def prime_num(n):\n",
    "    for i in range(2,n+1):\n",
    "        flag=0\n",
    "        if i==2:\n",
    "            yield i\n",
    "        else:\n",
    "            for j in range(2,i):\n",
    "                if i%j==0:\n",
    "                    flag=1\n",
    "                    break\n",
    "            if flag==0:\n",
    "                yield i\n",
    "                \n",
    "l=[]\n",
    "for i in prime_num(1000):\n",
    "    l.append(i)\n",
    "    if len(l)==20:\n",
    "        print(l)\n",
    "        break"
   ]
  },
  {
   "cell_type": "code",
   "execution_count": 56,
   "id": "2ab5ce58-6178-43f0-ba51-9e187bd5d378",
   "metadata": {},
   "outputs": [
    {
     "name": "stdout",
     "output_type": "stream",
     "text": [
      "0\n",
      "1\n",
      "1\n",
      "2\n",
      "3\n",
      "5\n",
      "8\n",
      "13\n",
      "21\n",
      "34\n"
     ]
    }
   ],
   "source": [
    "#Question 6\n",
    "def fib_fun(n):\n",
    "    a,b = 0,1\n",
    "    while True:\n",
    "        yield a \n",
    "        a,b = b,a+b\n",
    "        \n",
    "fib=fib_fun(10)        \n",
    "for i in range(10):\n",
    "    print(next(fib))"
   ]
  },
  {
   "cell_type": "code",
   "execution_count": 58,
   "id": "f4109387-f55b-4e6a-a91c-3cea6c883983",
   "metadata": {},
   "outputs": [
    {
     "data": {
      "text/plain": [
       "['p', 'w', 's', 'k', 'i', 'l', 'l', 's']"
      ]
     },
     "execution_count": 58,
     "metadata": {},
     "output_type": "execute_result"
    }
   ],
   "source": [
    "#Question 7\n",
    "string='pwskills'\n",
    "def list_compre(string):\n",
    "    return [i for i in string]\n",
    "list_compre(string)"
   ]
  },
  {
   "cell_type": "code",
   "execution_count": null,
   "id": "21a64900-4700-4a50-bc0b-41a18bd1db8e",
   "metadata": {},
   "outputs": [],
   "source": [
    "#Question 8\n",
    "n=input()\n",
    "def palindrome_fun(n):\n",
    "    while len(n)>0:\n",
    "        for i in n:\n",
    "            if n==n[::-1]:\n",
    "                return True\n",
    "            \n",
    "palindrome_fun(n)            "
   ]
  },
  {
   "cell_type": "code",
   "execution_count": 14,
   "id": "07b70f58-59bf-4bbe-b7be-54d089956e30",
   "metadata": {},
   "outputs": [
    {
     "data": {
      "text/plain": [
       "[1,\n",
       " 3,\n",
       " 5,\n",
       " 7,\n",
       " 9,\n",
       " 11,\n",
       " 13,\n",
       " 15,\n",
       " 17,\n",
       " 19,\n",
       " 21,\n",
       " 23,\n",
       " 25,\n",
       " 27,\n",
       " 29,\n",
       " 31,\n",
       " 33,\n",
       " 35,\n",
       " 37,\n",
       " 39,\n",
       " 41,\n",
       " 43,\n",
       " 45,\n",
       " 47,\n",
       " 49,\n",
       " 51,\n",
       " 53,\n",
       " 55,\n",
       " 57,\n",
       " 59,\n",
       " 61,\n",
       " 63,\n",
       " 65,\n",
       " 67,\n",
       " 69,\n",
       " 71,\n",
       " 73,\n",
       " 75,\n",
       " 77,\n",
       " 79,\n",
       " 81,\n",
       " 83,\n",
       " 85,\n",
       " 87,\n",
       " 89,\n",
       " 91,\n",
       " 93,\n",
       " 95,\n",
       " 97,\n",
       " 99]"
      ]
     },
     "execution_count": 14,
     "metadata": {},
     "output_type": "execute_result"
    }
   ],
   "source": [
    "#Question 9\n",
    "l=[i for i in range(100)]\n",
    "\n",
    "list(filter(lambda x: x%2!=0, l))"
   ]
  },
  {
   "cell_type": "code",
   "execution_count": null,
   "id": "b78a20c4-22ee-46ca-bcc4-467a7840286a",
   "metadata": {},
   "outputs": [],
   "source": []
  },
  {
   "cell_type": "code",
   "execution_count": null,
   "id": "d77391ba-af76-4be8-bea6-cc7787ccf6b5",
   "metadata": {},
   "outputs": [],
   "source": []
  }
 ],
 "metadata": {
  "kernelspec": {
   "display_name": "Python 3 (ipykernel)",
   "language": "python",
   "name": "python3"
  },
  "language_info": {
   "codemirror_mode": {
    "name": "ipython",
    "version": 3
   },
   "file_extension": ".py",
   "mimetype": "text/x-python",
   "name": "python",
   "nbconvert_exporter": "python",
   "pygments_lexer": "ipython3",
   "version": "3.10.8"
  }
 },
 "nbformat": 4,
 "nbformat_minor": 5
}
