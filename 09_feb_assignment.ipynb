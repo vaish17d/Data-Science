{
 "cells": [
  {
   "cell_type": "code",
   "execution_count": 4,
   "id": "3281e3cd-aa2d-4117-82d7-31762eee6d4f",
   "metadata": {},
   "outputs": [
    {
     "name": "stdout",
     "output_type": "stream",
     "text": [
      "name_of_vehicle:Nexon,max_speed:250,average_of_vehicle:100\n"
     ]
    }
   ],
   "source": [
    "#Quetstion 1: init method\n",
    "class vehicle:\n",
    "  def __init__(self,name_of_vehicle,max_speed,average_of_vehicle):\n",
    "    self.name_of_vehicle=name_of_vehicle\n",
    "    self.max_speed=max_speed\n",
    "    self.average_of_vehicle=average_of_vehicle\n",
    "  def show(self):\n",
    "    print(f\"name_of_vehicle:{self.name_of_vehicle},max_speed:{self.max_speed},average_of_vehicle:{self.average_of_vehicle}\")\n",
    "vehicle_obj=vehicle(\"Nexon\",250,100)\n",
    "vehicle_obj.show()"
   ]
  },
  {
   "cell_type": "code",
   "execution_count": 3,
   "id": "6b673c89-234a-44b1-8506-e27f8d34e761",
   "metadata": {},
   "outputs": [
    {
     "name": "stdout",
     "output_type": "stream",
     "text": [
      "car name: Nexon\n",
      "car capacity: 4\n"
     ]
    }
   ],
   "source": [
    "#Question 2: child class car\n",
    "class vehicle:\n",
    "  def __init__(self,name_of_vehicle,max_speed,average_of_vehicle):\n",
    "    self.name_of_vehicle=name_of_vehicle\n",
    "    self.max_speed=max_speed\n",
    "    self.average_of_vehicle=average_of_vehicle\n",
    "class car(vehicle):\n",
    "   def seating_capacity(self,capacity):\n",
    "       self.capacity=capacity\n",
    "car_obj=car(\"Nexon\",250,100)\n",
    "car_obj.seating_capacity(4)\n",
    "print(\"car name:\",car_obj.name_of_vehicle)\n",
    "print(\"car capacity:\",car_obj.capacity)"
   ]
  },
  {
   "cell_type": "code",
   "execution_count": 5,
   "id": "413fb1e0-7d0b-4e15-a1c2-90b6b4d11b34",
   "metadata": {},
   "outputs": [
    {
     "name": "stdout",
     "output_type": "stream",
     "text": [
      "This is from class1\n",
      "This is from class2\n",
      "This is from class3\n"
     ]
    }
   ],
   "source": [
    "#Question 3: multiple inheritance\n",
    "#Multiple inheritance inherits the properties and behaviour from two parent classes.\n",
    "class class1:\n",
    "  def show1(self):\n",
    "    print(\"This is from class1\")\n",
    "class class2:\n",
    "  def show2(self):\n",
    "    print(\"This is from class2\")\n",
    "class class3(class1,class2):\n",
    "  def show3(self):\n",
    "    print(\"This is from class3\")\n",
    "class3_obj=class3()\n",
    "class3_obj.show1()\n",
    "class3_obj.show2()\n",
    "class3_obj.show3()"
   ]
  },
  {
   "cell_type": "code",
   "execution_count": 6,
   "id": "103fcfc9-8ec1-4240-95d3-7a4156363404",
   "metadata": {},
   "outputs": [
    {
     "name": "stdout",
     "output_type": "stream",
     "text": [
      "Student age:24\n"
     ]
    }
   ],
   "source": [
    "#Question 4: \n",
    "#Getters and Setters are used in Data Encapsulation.\n",
    "#It is mainly used to prevent the direct access to the class fields.\n",
    "class student:\n",
    "  def __init__(self,age=0):\n",
    "    self._age=age\n",
    "  def get_age(self):\n",
    "    return self._age\n",
    "  def set_age(self,age):\n",
    "    self._age=age\n",
    "student_obj=student()\n",
    "student_obj.set_age(24)\n",
    "print(f\"Student age:{student_obj.get_age()}\")"
   ]
  },
  {
   "cell_type": "code",
   "execution_count": 7,
   "id": "2b86216c-05d5-41f8-91b5-7bbb443092ee",
   "metadata": {},
   "outputs": [
    {
     "name": "stdout",
     "output_type": "stream",
     "text": [
      "This is from parent class\n",
      "This is from child class\n"
     ]
    }
   ],
   "source": [
    "#Question 5:\n",
    "#Method overiding provides the specific implementation of a method in child class that is already defined in one of its parent class.\n",
    "#when a method is said to have overridden, the child class has the method with same name,same parameters and same return type as of the method in parent class.\n",
    "class parent:\n",
    "  def show(self):\n",
    "    print(\"This is from parent class\")\n",
    "class child(parent):\n",
    "  def show(self):\n",
    "    print(\"This is from child class\")\n",
    "parent_obj=parent()\n",
    "child_obj=child()\n",
    "parent_obj.show()\n",
    "child_obj.show()"
   ]
  }
 ],
 "metadata": {
  "kernelspec": {
   "display_name": "Python 3 (ipykernel)",
   "language": "python",
   "name": "python3"
  },
  "language_info": {
   "codemirror_mode": {
    "name": "ipython",
    "version": 3
   },
   "file_extension": ".py",
   "mimetype": "text/x-python",
   "name": "python",
   "nbconvert_exporter": "python",
   "pygments_lexer": "ipython3",
   "version": "3.10.8"
  }
 },
 "nbformat": 4,
 "nbformat_minor": 5
}
