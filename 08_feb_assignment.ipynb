{
 "cells": [
  {
   "cell_type": "markdown",
   "id": "ea2aefee-d0d2-45c5-937e-f12022df59b0",
   "metadata": {},
   "source": [
    " #Question 1: What is Abstraction in OOps? Explain with an example.\n",
    " \n",
    " Abstraction is the process of hiding the internal details of an application from the outer world.\n",
    " It is used to show only the required information about the data and hides the unnecessary data in order to reduce the complexity.\n",
    " For example, Abstraction is an outer look of mobile phone, like it has display screen and keypad buttons to dial number."
   ]
  },
  {
   "cell_type": "code",
   "execution_count": 2,
   "id": "28a4202b-5a83-4324-92c4-63a4e869e3b7",
   "metadata": {},
   "outputs": [
    {
     "data": {
      "text/plain": [
       "'this will return student details for data science masters'"
      ]
     },
     "execution_count": 2,
     "metadata": {},
     "output_type": "execute_result"
    }
   ],
   "source": [
    "#Example of Abstraction:\n",
    "import abc\n",
    "class pwskills: #abstract class\n",
    "    @abc.abstractmethod\n",
    "    def students_details(self):\n",
    "        pass\n",
    "    \n",
    "    #@abc.abstractmethod\n",
    "    def students_assignment(self):\n",
    "        pass\n",
    "    \n",
    "class data_science_masters(pwskills):\n",
    "    def students_details(self):\n",
    "        return \"this will return student details for data science masters\"\n",
    "    \n",
    "    def student_assignment(self):\n",
    "        return \"this will give you student details for data science masters\"  \n",
    "    \n",
    "dsm = data_science_masters()\n",
    "dsm.students_details()   "
   ]
  },
  {
   "cell_type": "markdown",
   "id": "894a3ba4-aa2e-4e16-80bb-72f5f2251eba",
   "metadata": {},
   "source": [
    "#Question 2: Differentiate between Abstraction and Encapsulation. Explain with an example.\n",
    "\n",
    "Abstraction refers to the process of hiding the internal implementation details of system and shows only relevant essential features and functionalities to users. Abstraction is an outer layout, used in terms of design. It solves the problem in design level. It is achieved through abstract classes and interfaces. It hides complexity i.e the irrelevant details found in the code.\n",
    "\n",
    "Encapsulation, whereas, refers to process of wrapping data and methods that work with data in one unit for necessary information. Encapsulation is inner layout, used in terms of implementation. It solves problem on implementation level. It is achieved through the use of access modifiers like public, private and protected. It helps developers to organize the entire code easily."
   ]
  },
  {
   "cell_type": "code",
   "execution_count": 3,
   "id": "bdd99eeb-9bed-4ce8-8aa4-a60c54ea61a8",
   "metadata": {},
   "outputs": [
    {
     "data": {
      "text/plain": [
       "'this will return student details for data science masters'"
      ]
     },
     "execution_count": 3,
     "metadata": {},
     "output_type": "execute_result"
    }
   ],
   "source": [
    "#Example of Abstraction:\n",
    "import abc\n",
    "class pwskills: #abstract class\n",
    "    @abc.abstractmethod\n",
    "    def students_details(self):\n",
    "        pass\n",
    "    \n",
    "    #@abc.abstractmethod\n",
    "    def students_assignment(self):\n",
    "        pass\n",
    "    \n",
    "class data_science_masters(pwskills):\n",
    "    def students_details(self):\n",
    "        return \"this will return student details for data science masters\"\n",
    "    \n",
    "    def student_assignment(self):\n",
    "        return \"this will give you student details for data science masters\"  \n",
    "    \n",
    "dsm = data_science_masters()\n",
    "dsm.students_details()   \n"
   ]
  },
  {
   "cell_type": "code",
   "execution_count": 4,
   "id": "6df234bc-6ea3-454d-97e7-fba47738b33f",
   "metadata": {},
   "outputs": [
    {
     "data": {
      "text/plain": [
       "1000"
      ]
     },
     "execution_count": 4,
     "metadata": {},
     "output_type": "execute_result"
    }
   ],
   "source": [
    "#Example of Encapsulation:\n",
    "class bank_account:\n",
    "    def __init__(self,balance):\n",
    "        self.__balance=balance\n",
    "    \n",
    "    def deposit(self,amount):\n",
    "        self.__balance = self.__balance + amount\n",
    "        \n",
    "    def withdraw(self,amount):\n",
    "        if self.__balance>=amount:\n",
    "            self.__balance = self.__balance-amount\n",
    "            return True\n",
    "        else:\n",
    "            return False\n",
    "        \n",
    "    def get_balance(self):\n",
    "        return self.__balance\n",
    "    \n",
    "bank = bank_account(1000)    \n",
    "bank.get_balance()"
   ]
  },
  {
   "cell_type": "code",
   "execution_count": null,
   "id": "fc86d58d-68c1-481f-b6ba-7472101d636f",
   "metadata": {},
   "outputs": [],
   "source": []
  },
  {
   "cell_type": "code",
   "execution_count": null,
   "id": "ba7253bf-7012-44cf-948e-f6c7155c5fc3",
   "metadata": {},
   "outputs": [],
   "source": []
  },
  {
   "cell_type": "code",
   "execution_count": null,
   "id": "ee9c542f-d7bf-4420-99d6-7d434f9bab0c",
   "metadata": {},
   "outputs": [],
   "source": []
  },
  {
   "cell_type": "markdown",
   "id": "cfc4dc68-1184-4025-b91f-59e112a2a32d",
   "metadata": {},
   "source": [
    "#Question 3: What is abc module in python? Why is it used?\n",
    "\n",
    "The abc module stands for abstract base classes (ABCs) in python. It provides the infrastructure for defining abstract classes. It offers the necessary tools for crafting an abstract base class.\n",
    "The 'abc' module provides 'ABC' class that can be used as base class for defining abstract classes. A method becomes abstract when decorated with the keyword @abstractmethod.\n",
    "\n",
    "The 'abc' module in python is used for defining and working with abstract base classes(ABCs). ABCs are classes that cannot be instantiated on their own but are meant to be by other classes that provides concrete implementations for their abstract methods.\n",
    "It is used to provide a standardized way to test whether an object adheres to a given specification. It can also prevent any attempt to instantiate a subclass that doesn’t override a particular method in the superclass."
   ]
  },
  {
   "cell_type": "code",
   "execution_count": 5,
   "id": "c31cd021-1420-4aae-88fd-bf69752a6370",
   "metadata": {},
   "outputs": [
    {
     "data": {
      "text/plain": [
       "'this will return student details for data science masters'"
      ]
     },
     "execution_count": 5,
     "metadata": {},
     "output_type": "execute_result"
    }
   ],
   "source": [
    "#Question 4: How can we achieve data abstraction?\n",
    "#In python, data abstraction can be achieved using abstract classes or interfaces provided by abc module.\n",
    "#Here method decorated with keyword @abstractmethod in abc module on the top of a method.\n",
    "#so that it becomes abstract\n",
    "#data_science_masters class extends an abstract class pwskills. \n",
    "#Thus data_science_masters is subclass and pwskills is the superclass.\n",
    "\n",
    "import abc\n",
    "class pwskills: #abstract class\n",
    "    @abc.abstractmethod\n",
    "    def students_details(self):\n",
    "        pass\n",
    "    \n",
    "    #@abc.abstractmethod\n",
    "    def students_assignment(self):\n",
    "        pass\n",
    "    \n",
    "class data_science_masters(pwskills):\n",
    "    def students_details(self):\n",
    "        return \"this will return student details for data science masters\"\n",
    "    \n",
    "    def student_assignment(self):\n",
    "        return \"this will give you student details for data science masters\"  \n",
    "    \n",
    "dsm = data_science_masters()\n",
    "dsm.students_details()   \n"
   ]
  },
  {
   "cell_type": "markdown",
   "id": "e603e3fe-9135-4747-a9d8-d2f7d4036d40",
   "metadata": {},
   "source": [
    "#Question 5: Can we create an instance of an abstract class? Explain your answer.\n",
    "\n",
    "No, we cannot create an instance of abstract class in Python. An abstract class is a class that cannot be instantiated on its own, but rather is meant to be subclassed and its methods overridden by its child classes.\n",
    "\n",
    "In Python, abstract classes are defined using abc module and they are marked using @abstractmethod decorator. Attempting to create an instance will result in TypeError."
   ]
  },
  {
   "cell_type": "code",
   "execution_count": 6,
   "id": "1988dff6-09c6-4eba-ae1b-ba96b7bb740c",
   "metadata": {},
   "outputs": [
    {
     "ename": "TypeError",
     "evalue": "Can't instantiate abstract class myAbstractClass with abstract method myAbstractMethod",
     "output_type": "error",
     "traceback": [
      "\u001b[0;31m---------------------------------------------------------------------------\u001b[0m",
      "\u001b[0;31mTypeError\u001b[0m                                 Traceback (most recent call last)",
      "Cell \u001b[0;32mIn[6], line 7\u001b[0m\n\u001b[1;32m      3\u001b[0m     \u001b[38;5;129m@abstractmethod\u001b[39m\n\u001b[1;32m      4\u001b[0m     \u001b[38;5;28;01mdef\u001b[39;00m \u001b[38;5;21mmyAbstractMethod\u001b[39m(\u001b[38;5;28mself\u001b[39m):\n\u001b[1;32m      5\u001b[0m         \u001b[38;5;28;01mpass\u001b[39;00m\n\u001b[0;32m----> 7\u001b[0m myInstance \u001b[38;5;241m=\u001b[39m \u001b[43mmyAbstractClass\u001b[49m\u001b[43m(\u001b[49m\u001b[43m)\u001b[49m \u001b[38;5;66;03m#this will raise TypeError\u001b[39;00m\n",
      "\u001b[0;31mTypeError\u001b[0m: Can't instantiate abstract class myAbstractClass with abstract method myAbstractMethod"
     ]
    }
   ],
   "source": [
    "from abc import ABC, abstractmethod\n",
    "class myAbstractClass(ABC):\n",
    "    @abstractmethod\n",
    "    def myAbstractMethod(self):\n",
    "        pass\n",
    "\n",
    "myInstance = myAbstractClass() #this will raise TypeError"
   ]
  }
 ],
 "metadata": {
  "kernelspec": {
   "display_name": "Python 3 (ipykernel)",
   "language": "python",
   "name": "python3"
  },
  "language_info": {
   "codemirror_mode": {
    "name": "ipython",
    "version": 3
   },
   "file_extension": ".py",
   "mimetype": "text/x-python",
   "name": "python",
   "nbconvert_exporter": "python",
   "pygments_lexer": "ipython3",
   "version": "3.10.8"
  }
 },
 "nbformat": 4,
 "nbformat_minor": 5
}
