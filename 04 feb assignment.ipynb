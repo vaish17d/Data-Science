{
 "cells": [
  {
   "cell_type": "code",
   "execution_count": 7,
   "id": "2d407eb8-a758-447b-9d56-3b8229f3aca6",
   "metadata": {},
   "outputs": [
    {
     "name": "stdout",
     "output_type": "stream",
     "text": [
      "[('Virat Kohli', 24936), ('Jack Kallis', 25534), ('Ricky Ponting', 27483), ('Sachin Tendulkar', 34357)]\n"
     ]
    }
   ],
   "source": [
    "#Question 1: Create a python program to sort the given list of tuples based on integer value using lambda function.\n",
    "l1 = [('Sachin Tendulkar', 34357), ('Ricky Ponting', 27483), ('Jack Kallis', 25534), ('Virat Kohli', 24936)]\n",
    "l1.sort(key=lambda l1:(l1[1]))\n",
    "print(l1)"
   ]
  },
  {
   "cell_type": "code",
   "execution_count": 8,
   "id": "075a9e76-2c48-49c8-937f-e21d54efc115",
   "metadata": {},
   "outputs": [
    {
     "name": "stdout",
     "output_type": "stream",
     "text": [
      "[1, 4, 9, 16, 25, 36, 49, 64, 81, 100]\n"
     ]
    }
   ],
   "source": [
    "#Question 2: Write a Python Program to find the squares of all the numbers in the given list of integers using lambda and map functions.\n",
    "l2 = [1,2,3,4,5,6,7,8,9,10]\n",
    "result = list(map(lambda x: x**2, l2))\n",
    "print(result)"
   ]
  },
  {
   "cell_type": "code",
   "execution_count": 9,
   "id": "5515d924-3461-4221-95a3-9f450519b541",
   "metadata": {},
   "outputs": [
    {
     "name": "stdout",
     "output_type": "stream",
     "text": [
      "['1', '2', '3', '4', '5', '6', '7', '8', '9', '10']\n"
     ]
    }
   ],
   "source": [
    "#Question 3: Write a python program to convert the given list of integers into a tuple of strings. Use map and lambda functions\n",
    "l3 = [1,2,3,4,5,6,7,8,9,10]\n",
    "result = list(map(str, l3))\n",
    "print(result)"
   ]
  },
  {
   "cell_type": "code",
   "execution_count": 23,
   "id": "4a5c561a-f99f-4a0d-811b-58fa5e1f14c9",
   "metadata": {},
   "outputs": [
    {
     "name": "stdout",
     "output_type": "stream",
     "text": [
      "15511210043330985984000000\n"
     ]
    }
   ],
   "source": [
    "#Question 4: Write a python program using reduce function to compute the product of a list containing numbers from 1 to 25.\n",
    "from functools import reduce \n",
    "l4 = list(range(1,26))\n",
    "r = reduce(lambda x,y: x*y, l4)\n",
    "print(r)"
   ]
  },
  {
   "cell_type": "code",
   "execution_count": 24,
   "id": "a2990498-c02b-4a18-986f-d0dac8a07001",
   "metadata": {},
   "outputs": [
    {
     "name": "stdout",
     "output_type": "stream",
     "text": [
      "[2, 3, 6, 9, 27, 60, 90, 120, 46]\n"
     ]
    }
   ],
   "source": [
    "#Question 5: Write a python program to filter the numbers in a given list that are divisible by 2 and 3 using the filter function.\n",
    "l5 = [2,3,6,9,27,60,90,120,55,46]\n",
    "r = list(filter(lambda x: x%2==0 or x%3==0, l5))\n",
    "print(r)"
   ]
  },
  {
   "cell_type": "code",
   "execution_count": 13,
   "id": "19aa0640-5522-4735-aba6-2fc6c42eeb67",
   "metadata": {},
   "outputs": [
    {
     "name": "stdout",
     "output_type": "stream",
     "text": [
      "['php', 'aba', 'radar', 'level']\n"
     ]
    }
   ],
   "source": [
    "#Question 6: Write a python program to find palindromes in the given list of strings using lambda and filter function.\n",
    "l6 = ['python','php','aba','radar','level']\n",
    "r = list(filter(lambda x: x[::-1]==x, l6))\n",
    "print(r)"
   ]
  }
 ],
 "metadata": {
  "kernelspec": {
   "display_name": "Python 3 (ipykernel)",
   "language": "python",
   "name": "python3"
  },
  "language_info": {
   "codemirror_mode": {
    "name": "ipython",
    "version": 3
   },
   "file_extension": ".py",
   "mimetype": "text/x-python",
   "name": "python",
   "nbconvert_exporter": "python",
   "pygments_lexer": "ipython3",
   "version": "3.10.8"
  }
 },
 "nbformat": 4,
 "nbformat_minor": 5
}
