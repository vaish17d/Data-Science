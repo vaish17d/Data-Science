{
 "cells": [
  {
   "cell_type": "markdown",
   "id": "49db507f-5a5e-493e-8c3e-77b7aaad5508",
   "metadata": {},
   "source": [
    "### Question 1: What is an API? Give an example, where an API is used in real life.\n",
    "API stands for Appliaction Programming Interface. It is a software interface that allows two homogenous or heterogenous appliactions to interact with ecah other. It is a collection of software functions and procedure. It acts as an intermediate layer that process data transfer between different applications.\n",
    "Examples:\n",
    "(i) Universal logins - Allows user to login to websites by useing facebook,twitter and email\n",
    "(ii) Travel booking apps\n",
    "(iii) Payment via gpay, phonepe"
   ]
  },
  {
   "cell_type": "markdown",
   "id": "bc18c8ce-27e2-4046-8074-4dfafc716f12",
   "metadata": {},
   "source": [
    "### Question 2: Give advantages and disadvantages of using API.\n",
    "Advantages:\n",
    "(i) Helps in simplification of code of the client-side.\n",
    "(ii) Never calls a particular service. eg: client interaction with API gataway.\n",
    "(iii) It encloses the whole internal structure of web applications.\n",
    "(iv) Expose service data to browser.\n",
    "(v) Supports traditional CRUD operations as it uses HTTP verbs.\n",
    "(vi) It is easy to define.\n",
    "\n",
    "Disadvantages:\n",
    "(i) Web application services will be shown only if the API is upto date.\n",
    "(ii) Time complexity increases in case of heavyweight process. \n",
    "(iii) Maintenance cost is very high.\n",
    "(iv) API creation is time consuming."
   ]
  },
  {
   "cell_type": "markdown",
   "id": "34fd6e05-a9a0-45c9-a36d-7fc282dc1f5c",
   "metadata": {},
   "source": [
    "### Question 3: What is a Web API? Differentiate between API and Web API.\n",
    "(i) API uses TCP,SMTP AND HTTP protocols. Web API uses Http protocols.\n",
    "(ii) All API's are not web services. But all web services are API.\n",
    "(iii) API supports xml,json or any other formats. Web API supports xml.\n",
    "(iv) API is light weight architecture. Since Web API uses SOAP protocol it is not light weight."
   ]
  },
  {
   "cell_type": "markdown",
   "id": "a12f9889-f19d-463a-bad2-9e57ee200ddd",
   "metadata": {},
   "source": [
    "### Question 4: Explain REST and SOAP Architecture. Mention shortcomings of SOAP.\n",
    "REST:\n",
    "(i) REST stands for Representational state transfer.\n",
    "(ii) It is a client Server architecture where client sends the request and server sends the response.\n",
    "(iii) It is stateless protocol.\n",
    "(iv) It consists of cache where the responses from the server is cached.\n",
    "(v) It has uniform interface which uses HTTP verbs-get,put,post,delete and other hyperlinks.\n",
    "\n",
    "SOAP:\n",
    "(i) SOAP stands for Simple object access protocol\n",
    "(ii) It is a network protocol used to exchange structured data.\n",
    "(iii) It uses xml for data transfer.\n",
    "(iv) It consists of header,body and envelope in data transfer.\n",
    "\n",
    "Disadvantage of SOAP:\n",
    "(i)  SOAP uses xml and it doesnot use any other format.\n",
    "(ii) Platform is slow since its payload is large.\n",
    "(iii) It is hard to test in browsers.\n",
    "(iv) It does not hold any stateful reference to remote objects."
   ]
  },
  {
   "cell_type": "markdown",
   "id": "1840810b-7e7c-47ff-97db-ca98be5ea09f",
   "metadata": {},
   "source": [
    "### Question 5: Differentiate between REST and SOAP.\n",
    "(i) REST is a Representational state transfer protocol. SOAP is a Simple object access protocol.\n",
    "(ii) REST uses http protocol. SOAP uses TCP/SMTP protocol.\n",
    "(iii) REST is known for simplicity,scalibilty and flexibilty. SOAP is not much suited for scalability and flexibilty.\n",
    "(iv) REST is less secure. SOAP is more secure.\n",
    "(v) REST is mostly used in web based applications. SOAP is mostly used in offline applications.\n",
    "(vi) REST is less-structured. SOAP is highly structured."
   ]
  },
  {
   "cell_type": "code",
   "execution_count": null,
   "id": "7e05588b-8851-46b1-af01-02fe63a075cd",
   "metadata": {},
   "outputs": [],
   "source": []
  }
 ],
 "metadata": {
  "kernelspec": {
   "display_name": "Python 3 (ipykernel)",
   "language": "python",
   "name": "python3"
  },
  "language_info": {
   "codemirror_mode": {
    "name": "ipython",
    "version": 3
   },
   "file_extension": ".py",
   "mimetype": "text/x-python",
   "name": "python",
   "nbconvert_exporter": "python",
   "pygments_lexer": "ipython3",
   "version": "3.10.8"
  }
 },
 "nbformat": 4,
 "nbformat_minor": 5
}
