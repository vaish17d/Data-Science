{
 "cells": [
  {
   "cell_type": "markdown",
   "id": "44fc1251-724b-4f4a-8663-43beb1a2c642",
   "metadata": {},
   "source": [
    "#Question 1: What is a database? Differentiate between SQL and NoSQL databases.\n",
    "\n",
    "Database :\n",
    "Database is an organised collection of structured information that is stored electronically in computer which can be easily accessed and managed. It is controlled by Database Management System(DBMS). The main purpose of database is to operate large amount of information by storing,retreiving and managing data.\n",
    "\n",
    "Difference between SQL and NoSQL databases :\n",
    "(i) sql database is also called as relational database, nosql is called as non-relational or distributed database. \n",
    "(ii) sql db has pre-defined or fixed schema, nosql has dynamic schema. \n",
    "(iii) sql db is not suited for hierarchial data storage, nosql db is best suited for hierarchial data storage. \n",
    "(iv) sql db is suited for complex queries, nosql db is not suited for complex queries. \n",
    "(v) sql db is verically scalable, nosql db is horiontally scalable. \n",
    "(vi) sql db follows ACID properties (Atomicity,Consistency,Isolation,Durability) property, nosql follows CAP theorem (consistency, availability, and partition tolerance)."
   ]
  },
  {
   "cell_type": "markdown",
   "id": "364f8dde-8c39-4242-9a96-9bb97559f72c",
   "metadata": {},
   "source": [
    "#Question 2: What is DDL? Explain why CREATE, DROP, ALTER, and TRUNCATE are used with an example.\n",
    "\n",
    "DDL is the Data Definition Language used to define database schema.It deals with the description of database schema. It is used to create and modify the structure of database objects in the database. DDL is a set of commands used to create,modify and delete the database structure but not the data.\n",
    "\n",
    "DDL Commands :\n",
    "(i) create : It is used to create the database or its objects. Example, create table student(name varchar(20), age int, course varchar(20)) \n",
    "(ii) drop : It is used to delete the objects from the database. Example, drop table student\n",
    "(iii) alter : It is used to alter the structure of the database. Example, alter table student add year int(4)\n",
    "(iv) truncate : It is used to remove all the records from the table including the space allocated for it. Example, truncate table student"
   ]
  },
  {
   "cell_type": "markdown",
   "id": "3db055d3-0a4c-4e77-b264-a7d35bccf39c",
   "metadata": {},
   "source": [
    "#Question 3: What is DML? Explain INSERT, UPDATE, and DELETE with an example.\n",
    "\n",
    "DML is the Data Manipulation Language that is used to manipulate the data present in the database. It consists of insert,delete,update and lock commands.\n",
    "\n",
    "DML Commands :\n",
    "(i) insert : It is used to insert data into the table. Example, insert into student('jothi',24,'data science') \n",
    "(ii) update : It is used to update existing data within the table. Example, update student set(age=25) where name='jothi'; \n",
    "(iii) delete : It is used to delete data from the table. Example, delete from student where course='data science'"
   ]
  },
  {
   "cell_type": "markdown",
   "id": "033cef81-1971-46c5-976d-47656b59e045",
   "metadata": {},
   "source": [
    "#Question 4:What is DQL? Explain SELECT with an example.\n",
    "\n",
    "DQL is the Data Query Language used to retreive data from the user with the help of Select command.\n",
    "\n",
    "Example, SELECT * from student;\n",
    "It selects all students from student table."
   ]
  },
  {
   "cell_type": "markdown",
   "id": "a200b964-ac25-43a8-a773-e5f277dd7d2b",
   "metadata": {},
   "source": [
    "#Question 5: Explain Primary Key and Foreign Key.\n",
    "\n",
    "Primary Key :\n",
    "Primary key is used to ensure data in the specific column is unique.It uniquely identifies the data in the table. Only one primary key is allowed in the table. It is a combination of Unique and Not null constraints. It does not allow Null values. Its value cannot be deleted from the parent table. Its constraint can be implicity defined on the temporary tables. \n",
    "\n",
    "Foreign Key :\n",
    "Foreign key is a column or a group of columns in a relational database table that provides a link between data in two tables. It refers to the field in a table which is the primary key of another table. More than one foreign key is allowed. It can contains duplicate values and table in database. It can also contains null value. Its value can be deleted from the child table. Its contraint cannot be defined on the local or global temporary tables."
   ]
  },
  {
   "cell_type": "markdown",
   "id": "d0043d1e-299f-4d5c-ae08-79d2401f96b3",
   "metadata": {},
   "source": [
    "#Question 6: Write a python code to connect MySQL to python. Explain the cursor() and execute() method.\n",
    "\n",
    "(i) cursor() enables the python script to use database session to run. Connection class is used to create curson(). \n",
    "(ii) execute() is used to execute sql commands."
   ]
  },
  {
   "cell_type": "code",
   "execution_count": null,
   "id": "acaf17dd-fce3-4576-b67a-082499d7193b",
   "metadata": {},
   "outputs": [],
   "source": [
    "#code to connect MySQL to python\n",
    "import mysql.connector\n",
    "mydb=mqsql.connector.connect(host=\"localhost\",user='abc',password='password')\n",
    "mycursor=mydb.cursor()\n",
    "mycursor.execute('show databases')\n",
    "for x in mycursor:\n",
    "    print(x)"
   ]
  },
  {
   "cell_type": "markdown",
   "id": "d95efaed-5002-4c75-90a8-3450d53b808f",
   "metadata": {},
   "source": [
    "#Question 7: Give the order of execution of SQL clauses in an SQL query.\n",
    "\n",
    "The order of execution of sql cluases in an sql query process as follows:\n",
    "1) FROM\n",
    "2) ON\n",
    "3) OUTER\n",
    "4) WHERE\n",
    "5) GROUP BY\n",
    "6) HAVING\n",
    "7) SELECT\n",
    "8) DISTINCT\n",
    "9) ORDER BY\n",
    "10) TOP"
   ]
  }
 ],
 "metadata": {
  "kernelspec": {
   "display_name": "Python 3 (ipykernel)",
   "language": "python",
   "name": "python3"
  },
  "language_info": {
   "codemirror_mode": {
    "name": "ipython",
    "version": 3
   },
   "file_extension": ".py",
   "mimetype": "text/x-python",
   "name": "python",
   "nbconvert_exporter": "python",
   "pygments_lexer": "ipython3",
   "version": "3.10.8"
  }
 },
 "nbformat": 4,
 "nbformat_minor": 5
}
