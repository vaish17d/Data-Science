{
 "cells": [
  {
   "cell_type": "code",
   "execution_count": 4,
   "id": "a45218e6-1475-4e8f-bdb2-9d2526a5cff8",
   "metadata": {},
   "outputs": [
    {
     "name": "stdout",
     "output_type": "stream",
     "text": [
      "0     4\n",
      "1     8\n",
      "2    15\n",
      "3    16\n",
      "4    23\n",
      "5    42\n",
      "dtype: int64\n"
     ]
    }
   ],
   "source": [
    "##Question 1: Create a Pandas Series that contains the following data: 4, 8, 15, 16, 23, and 42. Then, print the series.\n",
    "import pandas as pd\n",
    "df = pd.Series([4,8,15,16,23,42])\n",
    "print(df)"
   ]
  },
  {
   "cell_type": "code",
   "execution_count": 6,
   "id": "69279582-04f5-4e69-b446-3647f5685b61",
   "metadata": {},
   "outputs": [
    {
     "name": "stdout",
     "output_type": "stream",
     "text": [
      "0    0\n",
      "1    1\n",
      "2    2\n",
      "3    3\n",
      "4    4\n",
      "5    5\n",
      "6    6\n",
      "7    7\n",
      "8    8\n",
      "9    9\n",
      "dtype: int64\n"
     ]
    }
   ],
   "source": [
    "##Question 2: Create a variable of list type containing 10 elements in it, and apply pandas.Series function on the variable print it.\n",
    "import pandas as pd\n",
    "print(pd.Series(list(range(10))))"
   ]
  },
  {
   "cell_type": "code",
   "execution_count": 7,
   "id": "e23a3b5e-e643-4e21-a2b7-f32603b39df2",
   "metadata": {},
   "outputs": [
    {
     "name": "stdout",
     "output_type": "stream",
     "text": [
      "     Name  Age  Gender\n",
      "0   Alice   25  Female\n",
      "1     Bob   30    Male\n",
      "2  Claire   27  Female\n"
     ]
    }
   ],
   "source": [
    "##Question 3: create and print the DataFrame.\n",
    "df={\"Name\":[\"Alice\",\"Bob\",\"Claire\"],\n",
    "    \"Age\":[25,30,27],\n",
    "    \"Gender\":[\"Female\",\"Male\",\"Female\"]\n",
    "   }\n",
    "print(pd.DataFrame(df))"
   ]
  },
  {
   "cell_type": "code",
   "execution_count": 10,
   "id": "f314aa4a-eedb-4249-9c85-cd8b8d866eab",
   "metadata": {},
   "outputs": [
    {
     "name": "stdout",
     "output_type": "stream",
     "text": [
      "     Name  Age  Gender\n",
      "0   Alice   25  Female\n",
      "1     Bob   30    Male\n",
      "2  Claire   27  Female\n",
      "-----------------------------\n",
      "0     Alice\n",
      "1       Bob\n",
      "2    Claire\n",
      "Name: Name, dtype: object\n"
     ]
    }
   ],
   "source": [
    "##Question 4: What is ‘DataFrame’ in pandas and how is it different from pandas.series? Explain with an example.\n",
    "''' DataFrame is a two-dimensional, mutable and heterogenous data in tabular data structure that stores the values with labelled axis.\n",
    "It consists of data,rows and columns.\n",
    "Whereas, pandas.Series is a one-dimesional array with homogenous data with labelled axis.'''\n",
    "df=pd.DataFrame({\"Name\":[\"Alice\",\"Bob\",\"Claire\"],\n",
    "    \"Age\":[25,30,27],\n",
    "    \"Gender\":[\"Female\",\"Male\",\"Female\"]\n",
    "   })\n",
    "print(df)\n",
    "\n",
    "print(\"-----------------------------\")\n",
    "\n",
    "name = df[\"Name\"]\n",
    "print(name)"
   ]
  },
  {
   "cell_type": "code",
   "execution_count": 12,
   "id": "392654e2-5094-4bc9-8342-71cdd9cbfa05",
   "metadata": {},
   "outputs": [
    {
     "name": "stdout",
     "output_type": "stream",
     "text": [
      "     Name  Age  Gender\n",
      "0   Alice   25  Female\n",
      "1     Bob   30    Male\n",
      "2  Claire   27  Female\n",
      "------------------------------\n",
      "After adding a column\n",
      "     Name  Age  Gender  Course\n",
      "0   Alice   25  Female  Python\n",
      "1     Bob   30    Male     CPP\n",
      "2  Claire   27  Female    Java\n",
      "------------------------------\n",
      "After renaming a column\n",
      "  Student Name  Age  Gender  Course\n",
      "0        Alice   25  Female  Python\n",
      "1          Bob   30    Male     CPP\n",
      "2       Claire   27  Female    Java\n",
      "------------------------------\n",
      "After dropping a column\n"
     ]
    }
   ],
   "source": [
    "##Question 5: What are some common functions you can use to manipulate data in a Pandas DataFrame? Can you give an example of when you might use one of these functions?\n",
    "\n",
    "'''Adding a new column, Dropping an existing column, Renaming the column name are some of the manipulation function used DataFrame.'''\n",
    "df=pd.DataFrame({\"Name\":[\"Alice\",\"Bob\",\"Claire\"],\n",
    "    \"Age\":[25,30,27],\n",
    "    \"Gender\":[\"Female\",\"Male\",\"Female\"]\n",
    "   })\n",
    "print(df)\n",
    "print(\"------------------------------\")\n",
    "print(\"After adding a column\")\n",
    "df[\"Course\"]=[\"Python\",\"CPP\",\"Java\"]\n",
    "print(df)\n",
    "print(\"------------------------------\")\n",
    "print(\"After renaming a column\")\n",
    "df.rename(columns={\"Name\":\"Student Name\"}, inplace=True)\n",
    "print(df)\n",
    "print(\"------------------------------\")\n",
    "print(\"After dropping a column\")\n",
    "df.drop(columns=\"Gender\", inplace=True)"
   ]
  },
  {
   "cell_type": "code",
   "execution_count": null,
   "id": "c79c0829-c719-4056-b1b1-3aca80c18e89",
   "metadata": {},
   "outputs": [],
   "source": [
    "##Question 6: Which of the following is mutable in nature Series, DataFrame, Panel?\n",
    "'''Series is an one dimensional homogenous data structure in which size is immutable but data is mutable.\n",
    "DataFrame is a two dimensional heterogenous data structure in which both size and data is mutable.\n",
    "Panel is a three dimensional heterogenous data structure in which both size and data is mutable.'''"
   ]
  },
  {
   "cell_type": "code",
   "execution_count": null,
   "id": "9fba2284-135e-4f92-986d-8c91b71f814d",
   "metadata": {},
   "outputs": [],
   "source": [
    "##Question 7: Create a DataFrame using multiple Series. Explain with an example.\n",
    "s1=pd.Series([1,2,3,4])\n",
    "s2=pd.Series([5,6,7,8])\n",
    "s3=pd.Series([9,10,11,12])\n",
    "pd.DataFrame({\"col1\":s1,\"col2\":s2,\"col3\":s3})"
   ]
  }
 ],
 "metadata": {
  "kernelspec": {
   "display_name": "Python 3 (ipykernel)",
   "language": "python",
   "name": "python3"
  },
  "language_info": {
   "codemirror_mode": {
    "name": "ipython",
    "version": 3
   },
   "file_extension": ".py",
   "mimetype": "text/x-python",
   "name": "python",
   "nbconvert_exporter": "python",
   "pygments_lexer": "ipython3",
   "version": "3.10.8"
  }
 },
 "nbformat": 4,
 "nbformat_minor": 5
}
