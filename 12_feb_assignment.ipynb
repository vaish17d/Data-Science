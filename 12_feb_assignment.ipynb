{
 "cells": [
  {
   "cell_type": "markdown",
   "id": "bc632269-c48f-492a-83e3-9b677d04592a",
   "metadata": {},
   "source": [
    "#Question 1: \n",
    "Exceptions are raised when some internal events occur which change the normal flow of the program.\n",
    "\n",
    "Difference between Exceptions and Syntax Errors:\n",
    "\n",
    "Error occurs when there is a problem in program while exception are raised when some internal error occurs.\n",
    "\n",
    "Syntax errors occur when the parser detects an incorrect statement or proper syntax of the language is not followed which leads to termination of the problem.\n",
    "Exception occurs when the code is syntactically correct but it results in error. It does not stop the execution of the program but changes the normal flow of the program.\n",
    "\n",
    "Exceptions are designed for the programmer to know how to handle them such as outOfRange. Once an exception arises the programmer has to decide how to handle it and the code can continue to operate relatively smoothly.\n",
    "On the other hand Syntax error indicates a problem that the programmer could not foresee as an import error or a memory error, due to which the program will stop the execution. The problem occurs cause of syntax of language is not followed."
   ]
  },
  {
   "cell_type": "code",
   "execution_count": 1,
   "id": "6ade2df0-76a0-4d86-8f64-6b5ce68aafdc",
   "metadata": {},
   "outputs": [
    {
     "ename": "SyntaxError",
     "evalue": "expected ':' (1093612234.py, line 3)",
     "output_type": "error",
     "traceback": [
      "\u001b[0;36m  Cell \u001b[0;32mIn[1], line 3\u001b[0;36m\u001b[0m\n\u001b[0;31m    if x > 10\u001b[0m\n\u001b[0m             ^\u001b[0m\n\u001b[0;31mSyntaxError\u001b[0m\u001b[0;31m:\u001b[0m expected ':'\n"
     ]
    }
   ],
   "source": [
    "#Example of syntax error:\n",
    "x = 12\n",
    "if x > 10\n",
    "    print(\"x is greater than 10\" )"
   ]
  },
  {
   "cell_type": "code",
   "execution_count": 2,
   "id": "2b1bb143-b22c-4c43-991c-4ffb3b530db5",
   "metadata": {},
   "outputs": [
    {
     "ename": "ZeroDivisionError",
     "evalue": "division by zero",
     "output_type": "error",
     "traceback": [
      "\u001b[0;31m---------------------------------------------------------------------------\u001b[0m",
      "\u001b[0;31mZeroDivisionError\u001b[0m                         Traceback (most recent call last)",
      "Cell \u001b[0;32mIn[2], line 3\u001b[0m\n\u001b[1;32m      1\u001b[0m \u001b[38;5;66;03m# example of Exception:\u001b[39;00m\n\u001b[1;32m      2\u001b[0m marks \u001b[38;5;241m=\u001b[39m \u001b[38;5;241m100\u001b[39m\n\u001b[0;32m----> 3\u001b[0m a \u001b[38;5;241m=\u001b[39m \u001b[43mmarks\u001b[49m\u001b[38;5;241;43m/\u001b[39;49m\u001b[38;5;241;43m0\u001b[39;49m\n\u001b[1;32m      4\u001b[0m \u001b[38;5;28mprint\u001b[39m(a) \u001b[38;5;66;03m#here program is syntactically correct but exception/error occurs\u001b[39;00m\n",
      "\u001b[0;31mZeroDivisionError\u001b[0m: division by zero"
     ]
    }
   ],
   "source": [
    "# example of Exception:\n",
    "marks = 100\n",
    "a = marks/0\n",
    "print(a) #here program is syntactically correct but exception/error occurs"
   ]
  },
  {
   "cell_type": "markdown",
   "id": "f6ebf999-287f-4f55-879e-faa27475430e",
   "metadata": {},
   "source": [
    "#Question 2: What happens when exception not handled with example\n",
    "\n",
    "When exception is not handled it leads to abrupt termination of the program.\n",
    "when it occurs, python interpreter stops the current process and passes it to the calling process until it is handled.\n",
    "If not handled the program will crash."
   ]
  },
  {
   "cell_type": "code",
   "execution_count": 3,
   "id": "6df5c690-6f31-4643-8fd5-b886b277acd5",
   "metadata": {},
   "outputs": [
    {
     "ename": "ZeroDivisionError",
     "evalue": "division by zero",
     "output_type": "error",
     "traceback": [
      "\u001b[0;31m---------------------------------------------------------------------------\u001b[0m",
      "\u001b[0;31mZeroDivisionError\u001b[0m                         Traceback (most recent call last)",
      "Cell \u001b[0;32mIn[3], line 2\u001b[0m\n\u001b[1;32m      1\u001b[0m weight\u001b[38;5;241m=\u001b[39m\u001b[38;5;241m100\u001b[39m\n\u001b[0;32m----> 2\u001b[0m \u001b[38;5;28mprint\u001b[39m(\u001b[43mweight\u001b[49m\u001b[38;5;241;43m/\u001b[39;49m\u001b[38;5;241;43m0\u001b[39;49m)\n",
      "\u001b[0;31mZeroDivisionError\u001b[0m: division by zero"
     ]
    }
   ],
   "source": [
    "weight=100\n",
    "print(weight/0)"
   ]
  },
  {
   "cell_type": "code",
   "execution_count": 4,
   "id": "d401615b-c062-4828-9df3-62f9b1e2291b",
   "metadata": {},
   "outputs": [
    {
     "name": "stdout",
     "output_type": "stream",
     "text": [
      "Exception occurs: division by zero\n"
     ]
    }
   ],
   "source": [
    "#Question 3: Which python statement are used to catch and handle exceptions example\n",
    "#try and except statements are used to catch and handle exceptions in python\n",
    "age=100\n",
    "try:\n",
    "  print(age/0)\n",
    "except Exception as e:\n",
    "  print(\"Exception occurs:\",e)"
   ]
  },
  {
   "cell_type": "markdown",
   "id": "05f4a79c-2b35-46cb-82cd-46a3f4144c72",
   "metadata": {},
   "source": [
    "#Question 4:\n",
    "a. try and else\n",
    "b. finally\n",
    "c. raise"
   ]
  },
  {
   "cell_type": "code",
   "execution_count": 5,
   "id": "f8b4fb5a-9bb7-471c-8800-4458d8cad343",
   "metadata": {},
   "outputs": [
    {
     "name": "stdout",
     "output_type": "stream",
     "text": [
      "10.0\n",
      "Program executed successfully without any exception\n"
     ]
    }
   ],
   "source": [
    "#Q.4 a) try and else\n",
    "age=100\n",
    "try:\n",
    "  print(age/10)\n",
    "except Exception as e:\n",
    "  print(\"Exception occurs:\",e)\n",
    "else:\n",
    "  print(\"Program executed successfully without any exception\")"
   ]
  },
  {
   "cell_type": "code",
   "execution_count": 6,
   "id": "5227644e-c08a-47a3-8046-8c8c6bbcbdae",
   "metadata": {},
   "outputs": [
    {
     "name": "stdout",
     "output_type": "stream",
     "text": [
      "Program executed without exception\n",
      "File is closed in the finally block\n"
     ]
    }
   ],
   "source": [
    "#Q.4 b) finally\n",
    "#finally is always executed irrespective of whether the exception occurs or not.\n",
    "try:\n",
    "  f=open(\"text1.txt\",\"w\")\n",
    "  f.write(\"Im in text1 file\")\n",
    "except Exception as e:\n",
    "  print(\"Exception occured:\",e)\n",
    "else:\n",
    "  print(\"Program executed without exception\")\n",
    "finally:\n",
    "  f.close()\n",
    "  print(\"File is closed in the finally block\")"
   ]
  },
  {
   "cell_type": "code",
   "execution_count": 8,
   "id": "60d2a0b4-dfe6-40b4-ba94-c789cc00fb52",
   "metadata": {},
   "outputs": [
    {
     "name": "stdin",
     "output_type": "stream",
     "text": [
      "Enter the amount for withdrawal:  7000\n"
     ]
    },
    {
     "name": "stdout",
     "output_type": "stream",
     "text": [
      "Balance is very low for withdrawal.\n"
     ]
    }
   ],
   "source": [
    "#Q4 c) raise\n",
    "class amountexception(Exception):\n",
    "  def __init__(self,msg):\n",
    "    self.msg=msg\n",
    "    \n",
    "def amount_exception(amt,balance):\n",
    "  if(balance>=amt):\n",
    "    balance-=amt\n",
    "    return balance\n",
    "  else:\n",
    "    raise amountexception(\"Balance is very low for withdrawal.\")\n",
    "    \n",
    "balance=5000\n",
    "amt=int(input(\"Enter the amount for withdrawal: \"))\n",
    "try:\n",
    "  bal=amount_exception(amt,balance)\n",
    "  print(\"Available balance after withdrawal: \",bal)\n",
    "except amountexception as e:\n",
    "  print(e)"
   ]
  },
  {
   "cell_type": "code",
   "execution_count": 10,
   "id": "5383c9c9-d91b-4a41-885f-a0175695c6a7",
   "metadata": {},
   "outputs": [
    {
     "name": "stdin",
     "output_type": "stream",
     "text": [
      "Enter the amount for withdrawal:  3000\n"
     ]
    },
    {
     "name": "stdout",
     "output_type": "stream",
     "text": [
      "Available balance after withdrawal:  2000\n"
     ]
    }
   ],
   "source": [
    "#Question 5: what are custom exception. why do we nned them with example\n",
    "'''Other than standard exceptions like ZeroDivisionError, IndexError,IOError..etc, we can also define other type of exception know as Custom exception.\n",
    "Custom exceptions are User-Defined exceptions that are derived from the Exception class.'''\n",
    "class amountexception(Exception):\n",
    "  def __init__(self,msg):\n",
    "    self.msg=msg\n",
    "def amount_exception(amt,balance):\n",
    "  if(balance>=amt):\n",
    "    balance-=amt\n",
    "    return balance\n",
    "  else:\n",
    "    raise amountexception(\"Balance is very low for withdrawal.\")\n",
    "balance=5000\n",
    "amt=int(input(\"Enter the amount for withdrawal: \"))\n",
    "try:\n",
    "  bal=amount_exception(amt,balance)\n",
    "  print(\"Available balance after withdrawal: \",bal)\n",
    "except amountexception as e:\n",
    "  print(e)\n",
    "     "
   ]
  },
  {
   "cell_type": "code",
   "execution_count": 17,
   "id": "d1329047-bcea-4654-bfd3-2d2875ceb895",
   "metadata": {},
   "outputs": [
    {
     "name": "stdin",
     "output_type": "stream",
     "text": [
      "Enter your age:  150\n"
     ]
    },
    {
     "name": "stdout",
     "output_type": "stream",
     "text": [
      "entered age is very very high, Please enter the valid age.\n"
     ]
    }
   ],
   "source": [
    "#Question 6: create custiom exception class use this class to handle exception\n",
    "class validateage(Exception):\n",
    "    def __init__(self,msg):\n",
    "        self.msg = msg     \n",
    "        \n",
    "def validate_age(age):\n",
    "    if age < 0:\n",
    "        raise validateage(\"entered age is negative, Please enter the valid age.\")\n",
    "    elif age > 100:\n",
    "        raise validateage(\"entered age is very very high, Please enter the valid age.\")\n",
    "    else:\n",
    "        print(\"age is valid\") \n",
    "        \n",
    "try:\n",
    "  age=int(input(\"Enter your age: \"))\n",
    "  validate_age(age)\n",
    "except validateage as e:\n",
    "  print(e)        "
   ]
  },
  {
   "cell_type": "code",
   "execution_count": null,
   "id": "06b27f44-1deb-4311-a411-16befd333288",
   "metadata": {},
   "outputs": [],
   "source": []
  }
 ],
 "metadata": {
  "kernelspec": {
   "display_name": "Python 3 (ipykernel)",
   "language": "python",
   "name": "python3"
  },
  "language_info": {
   "codemirror_mode": {
    "name": "ipython",
    "version": 3
   },
   "file_extension": ".py",
   "mimetype": "text/x-python",
   "name": "python",
   "nbconvert_exporter": "python",
   "pygments_lexer": "ipython3",
   "version": "3.10.8"
  }
 },
 "nbformat": 4,
 "nbformat_minor": 5
}
