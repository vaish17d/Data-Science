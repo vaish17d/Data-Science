{
 "cells": [
  {
   "cell_type": "code",
   "execution_count": 20,
   "id": "93666141-efec-4f14-a96c-1847b8882a95",
   "metadata": {},
   "outputs": [
    {
     "name": "stdout",
     "output_type": "stream",
     "text": [
      "[1, 2, 3, 4, 44, 55, 66, 34, 56, 78, 89, 34, 1, 2, 3, 1, 4, 34, 55, 67, 78, 89, 45, 22, 61, 34, 56]\n"
     ]
    },
    {
     "data": {
      "text/plain": [
       "4134711838987085478833841242112000"
      ]
     },
     "execution_count": 20,
     "metadata": {},
     "output_type": "execute_result"
    }
   ],
   "source": [
    "#Question 1:\n",
    "#Create a function which will take a list as an argument and return the product of all the numbers after creating a flat list.\n",
    "from functools import reduce\n",
    "\n",
    "list1 = [1,2,3,4, [44,55,66, True], False, (34,56,78,89,34), {1,2,3,3,2,1}, {1:34, \"key2\": [55, 67, 78, 89], 4: (45,22, 61, 34)}, [56, 'data science'],'Machine Learning']\n",
    "list2=[]\n",
    "\n",
    "def fun(list1):\n",
    "    for i in list1:\n",
    "        if type(i)==int:\n",
    "            list2.append(i)\n",
    "        elif type(i)==list or type(i)==set or type(i)==tuple:\n",
    "            list3=list(i)\n",
    "            for x in list3:\n",
    "                if type(x)==int:\n",
    "                    list2.append(x)\n",
    "        elif type(i)==dict:\n",
    "            list4=list(i.keys())\n",
    "            for x in i.values():\n",
    "                if type(x)==int:\n",
    "                    list4.append(x)\n",
    "                elif type(x)==list or type(x)==set or type(x)==tuple:\n",
    "                    list5=list(x)\n",
    "                    for y in list5:\n",
    "                        if type(y)==int:\n",
    "                            list4.append(y)\n",
    "            for x in list4:\n",
    "                if type(x)==int:\n",
    "                    list2.append(x)\n",
    "            \n",
    "    print(list2)\n",
    "    product=(reduce(lambda x,y: x*y, list2))\n",
    "    return product\n",
    "\n",
    "fun(list1)"
   ]
  },
  {
   "cell_type": "code",
   "execution_count": 26,
   "id": "d349004b-8192-472e-a9b0-8dff9e428334",
   "metadata": {},
   "outputs": [
    {
     "name": "stdin",
     "output_type": "stream",
     "text": [
      "Enter the sentence:  I want to become a Data Scientist\n"
     ]
    },
    {
     "name": "stdout",
     "output_type": "stream",
     "text": [
      "Encrypted message:  r$dzmg$gl$yvxlnv$z$wzgz$hxrvmgrhg\n"
     ]
    }
   ],
   "source": [
    "#Question 2:\n",
    "#Write a python program for encrypting a message sent to you by your friend. The logic of encryption should be such that, \n",
    "#for a the output should be z. For b, the output should be y. For c, the output should be x respectively. Also, the whitespace should be replaced with a dollar sign. Keep the punctuation marks unchanged.\n",
    "\n",
    "s=input(\"Enter the sentence: \")\n",
    "list1= list(chr(i) for i in range(97,123))\n",
    "list2= list(list1)[::-1]\n",
    "result=\"\"\n",
    "for i in s.lower():\n",
    "    if i==\" \":\n",
    "        result+='$'\n",
    "    elif i in list1:\n",
    "        index = list1.index(i)\n",
    "        result+=list2[index]\n",
    "    else:\n",
    "        result+=i\n",
    "print(\"Encrypted message: \",result)        "
   ]
  },
  {
   "cell_type": "code",
   "execution_count": 13,
   "id": "5c47b486-81b8-42e5-aeca-f13ef58e76aa",
   "metadata": {},
   "outputs": [
    {
     "name": "stdin",
     "output_type": "stream",
     "text": [
      "Enter the sentence:  I want to become a Data Scientist\n"
     ]
    },
    {
     "name": "stdout",
     "output_type": "stream",
     "text": [
      "Encrypted message:  r$dzmg$gl$yvxlnv$z$wzgz$hxrvmgrhg\n"
     ]
    }
   ],
   "source": [
    "sentence=input(\"Enter the sentence: \")\n",
    "list1=list(chr(i) for i in range(97,123)) # Stores elements from a to z\n",
    "list2=list(reversed(list1))               # Stores elements from a to z in reverse order\n",
    "sentence1=sentence.lower()\n",
    "output=\"\"\n",
    "for i in sentence1:\n",
    "  if i==\" \":\n",
    "    output+='$'\n",
    "  elif i in list1:\n",
    "    index_position=list1.index(i)\n",
    "    output+=list2[index_position]\n",
    "  else:\n",
    "    output+=i\n",
    "print(\"Encrypted message: \",output)\n",
    "     "
   ]
  }
 ],
 "metadata": {
  "kernelspec": {
   "display_name": "Python 3 (ipykernel)",
   "language": "python",
   "name": "python3"
  },
  "language_info": {
   "codemirror_mode": {
    "name": "ipython",
    "version": 3
   },
   "file_extension": ".py",
   "mimetype": "text/x-python",
   "name": "python",
   "nbconvert_exporter": "python",
   "pygments_lexer": "ipython3",
   "version": "3.10.8"
  }
 },
 "nbformat": 4,
 "nbformat_minor": 5
}
